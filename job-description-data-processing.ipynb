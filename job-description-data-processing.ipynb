{
 "cells": [
  {
   "cell_type": "code",
   "metadata": {
    "collapsed": true,
    "ExecuteTime": {
     "end_time": "2024-05-25T15:53:03.677697Z",
     "start_time": "2024-05-25T15:53:02.741280Z"
    }
   },
   "source": [
    "import pandas as pd\n",
    "import re\n",
    "import nltk\n",
    "import warnings\n",
    "warnings.filterwarnings('ignore')"
   ],
   "outputs": [],
   "execution_count": 1
  },
  {
   "cell_type": "code",
   "source": [
    "nltk.download(['stopwords', 'wordnet'])"
   ],
   "metadata": {
    "collapsed": false
   },
   "outputs": [],
   "execution_count": null
  },
  {
   "cell_type": "code",
   "source": [
    "def job_get_experience_expectations(experience_str):\n",
    "    match = re.match(r'(\\d+)\\s+to\\s+(\\d+)\\s+Years', experience_str)\n",
    "    if match:\n",
    "        min_exp, pref_exp = match.groups()\n",
    "        return int(min_exp) * 12, int(pref_exp) * 12\n",
    "    return None, None\n",
    "\n",
    "def job_get_skills(skills_str):\n",
    "    pattern = re.compile(r'([A-Z][a-z]*(?:\\s[a-z]+)*)')\n",
    "    skills = pattern.findall(skills_str)\n",
    "    skills = [skill.lower() for skill in skills]\n",
    "    return skills"
   ],
   "metadata": {
    "collapsed": false
   },
   "outputs": [],
   "execution_count": null
  },
  {
   "cell_type": "code",
   "source": [
    "jobs_df = pd.read_csv('./data/training/job_descriptions.csv')\n",
    "# jobs_df = jobs_df.reindex(np.random.permutation(jobs_df.index))\n",
    "# jobs_df = jobs_df.copy().iloc[0:10,]"
   ],
   "metadata": {
    "collapsed": false
   },
   "outputs": [],
   "execution_count": null
  },
  {
   "cell_type": "code",
   "source": [
    "experience = jobs_df['Experience'].apply(lambda x: pd.Series(job_get_experience_expectations(x)))\n",
    "dataset = pd.DataFrame({\n",
    "    'job_id': jobs_df['Job Id'],\n",
    "    'job_title': jobs_df['Job Title'].str.lower(),\n",
    "    'skills': jobs_df['skills'].apply(job_get_skills),\n",
    "    'min_experience': experience[0],\n",
    "    'max_experience': experience[1],\n",
    "})"
   ],
   "metadata": {
    "collapsed": false
   },
   "outputs": [],
   "execution_count": null
  },
  {
   "cell_type": "code",
   "source": [
    "dataset.head()"
   ],
   "metadata": {
    "collapsed": false
   },
   "outputs": [],
   "execution_count": null
  },
  {
   "cell_type": "code",
   "source": [
    "dataset"
   ],
   "metadata": {
    "collapsed": false
   },
   "outputs": [],
   "execution_count": null
  },
  {
   "cell_type": "code",
   "source": [],
   "metadata": {
    "collapsed": false
   },
   "outputs": [],
   "execution_count": null
  }
 ],
 "metadata": {
  "kernelspec": {
   "display_name": "Python 3",
   "language": "python",
   "name": "python3"
  },
  "language_info": {
   "codemirror_mode": {
    "name": "ipython",
    "version": 2
   },
   "file_extension": ".py",
   "mimetype": "text/x-python",
   "name": "python",
   "nbconvert_exporter": "python",
   "pygments_lexer": "ipython2",
   "version": "2.7.6"
  }
 },
 "nbformat": 4,
 "nbformat_minor": 0
}
