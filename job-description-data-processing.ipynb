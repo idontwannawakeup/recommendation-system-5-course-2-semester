{
 "cells": [
  {
   "cell_type": "code",
   "metadata": {
    "collapsed": true
   },
   "source": [
    "import pandas as pd\n",
    "import numpy as np\n",
    "import re\n",
    "import nltk\n",
    "import warnings\n",
    "warnings.filterwarnings('ignore')"
   ],
   "outputs": [],
   "execution_count": null
  },
  {
   "cell_type": "code",
   "source": [
    "nltk.download(['stopwords', 'wordnet'])"
   ],
   "metadata": {
    "collapsed": false
   },
   "outputs": [],
   "execution_count": null
  },
  {
   "cell_type": "code",
   "source": [
    "def parse_experience_expectations(experience_str):\n",
    "    match = re.match(r'(\\d+)\\s+to\\s+(\\d+)\\s+Years', experience_str)\n",
    "    if match:\n",
    "        min_exp, pref_exp = match.groups()\n",
    "        return int(min_exp) * 12, int(pref_exp) * 12\n",
    "    return None, None"
   ],
   "metadata": {
    "collapsed": false
   },
   "outputs": [],
   "execution_count": null
  },
  {
   "cell_type": "code",
   "source": [
    "def split_skills(skills_str):\n",
    "    pattern = re.compile(r'([A-Z][a-z]*(?:\\s[a-z]+)*)')\n",
    "    skills = pattern.findall(skills_str)\n",
    "    skills = [skill.lower() for skill in skills]\n",
    "    return skills"
   ],
   "metadata": {
    "collapsed": false
   },
   "outputs": [],
   "execution_count": null
  },
  {
   "cell_type": "code",
   "source": [
    "df = pd.read_csv('./data/training/job_descriptions.csv')\n",
    "df = df.reindex(np.random.permutation(df.index))\n",
    "df = df.copy().iloc[0:10,]"
   ],
   "metadata": {
    "collapsed": false
   },
   "outputs": [],
   "execution_count": null
  },
  {
   "cell_type": "code",
   "source": [
    "experience = df['Experience'].apply(lambda x: pd.Series(parse_experience_expectations(x)))\n",
    "dataset = pd.DataFrame({\n",
    "    'job_title': df['Job Title'].str.lower(),\n",
    "    'skills': df['skills'].apply(split_skills),\n",
    "    'min_experience': experience[0],\n",
    "    'max_experience': experience[1],\n",
    "})"
   ],
   "metadata": {
    "collapsed": false
   },
   "outputs": [],
   "execution_count": null
  },
  {
   "cell_type": "code",
   "source": [
    "dataset.head()"
   ],
   "metadata": {
    "collapsed": false
   },
   "outputs": [],
   "execution_count": null
  },
  {
   "cell_type": "code",
   "source": [
    "dataset"
   ],
   "metadata": {
    "collapsed": false
   },
   "outputs": [],
   "execution_count": null
  },
  {
   "cell_type": "code",
   "source": [],
   "metadata": {
    "collapsed": false
   },
   "outputs": [],
   "execution_count": null
  }
 ],
 "metadata": {
  "kernelspec": {
   "display_name": "Python 3",
   "language": "python",
   "name": "python3"
  },
  "language_info": {
   "codemirror_mode": {
    "name": "ipython",
    "version": 2
   },
   "file_extension": ".py",
   "mimetype": "text/x-python",
   "name": "python",
   "nbconvert_exporter": "python",
   "pygments_lexer": "ipython2",
   "version": "2.7.6"
  }
 },
 "nbformat": 4,
 "nbformat_minor": 0
}
