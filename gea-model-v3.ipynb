{
 "cells": [
  {
   "metadata": {
    "ExecuteTime": {
     "end_time": "2024-05-25T22:37:13.513735Z",
     "start_time": "2024-05-25T22:37:13.508600Z"
    }
   },
   "cell_type": "code",
   "source": "# GAE",
   "id": "74f7ed965b90fc08",
   "outputs": [],
   "execution_count": 210
  },
  {
   "metadata": {
    "ExecuteTime": {
     "end_time": "2024-05-25T22:37:13.529466Z",
     "start_time": "2024-05-25T22:37:13.519848Z"
    }
   },
   "cell_type": "code",
   "source": [
    "# # Set random seed for reproducibility\n",
    "# random_seed = 42\n",
    "# np.random.seed(random_seed)\n",
    "# \n",
    "# # Load datasets\n",
    "# job_descriptions = pd.read_csv('./data/processed/job_descriptions_processed.csv')\n",
    "# resumes = pd.read_csv('./data/processed/resume-dataset-processed.csv', converters={'skills': literal_eval})\n",
    "# \n",
    "# # Shuffle job_descriptions and select the first 100 rows\n",
    "# job_descriptions = job_descriptions.sample(frac=1, random_state=random_seed).head(100)\n",
    "# \n",
    "# # Convert 'skills' column to list\n",
    "# job_descriptions['skills'] = job_descriptions['skills'].apply(literal_eval)"
   ],
   "id": "4991f8d84ef5ee92",
   "outputs": [],
   "execution_count": 211
  },
  {
   "metadata": {
    "ExecuteTime": {
     "end_time": "2024-05-25T22:37:13.535909Z",
     "start_time": "2024-05-25T22:37:13.529466Z"
    }
   },
   "cell_type": "code",
   "source": [
    "import torch\n",
    "import torch.nn.functional as F\n",
    "from torch_geometric.nn import GCNConv, VGAE\n",
    "from torch_geometric.data import Data\n",
    "from torch_geometric.utils import train_test_split_edges, negative_sampling\n",
    "import pandas as pd\n",
    "import uuid\n",
    "import time\n",
    "from sklearn.preprocessing import LabelEncoder\n",
    "from sklearn.metrics import roc_auc_score, average_precision_score\n",
    "\n",
    "from ast import literal_eval\n",
    "import numpy as np"
   ],
   "id": "a511aa2d122e9de1",
   "outputs": [],
   "execution_count": 212
  },
  {
   "metadata": {
    "ExecuteTime": {
     "end_time": "2024-05-25T22:37:15.187966Z",
     "start_time": "2024-05-25T22:37:13.535909Z"
    }
   },
   "cell_type": "code",
   "source": [
    "# Set random seed for reproducibility\n",
    "random_seed = 42\n",
    "np.random.seed(random_seed)\n",
    "\n",
    "# Load datasets\n",
    "job_descriptions = pd.read_csv('./data/processed/job_descriptions_processed.csv')\n",
    "resumes = pd.read_csv('./data/processed/general-resume-dataset-processed-v1.csv', converters={'skills': literal_eval})\n",
    "\n",
    "# Shuffle job_descriptions and select the first N rows\n",
    "job_descriptions = job_descriptions.sample(frac=1, random_state=random_seed).head(10000)\n",
    "\n",
    "# Convert 'skills' column to list\n",
    "job_descriptions['skills'] = job_descriptions['skills'].apply(literal_eval)"
   ],
   "id": "fa9cfddac8b5ada2",
   "outputs": [],
   "execution_count": 213
  },
  {
   "metadata": {
    "ExecuteTime": {
     "end_time": "2024-05-25T22:37:15.193628Z",
     "start_time": "2024-05-25T22:37:15.188979Z"
    }
   },
   "cell_type": "code",
   "source": [
    "# Replace None values in job_title and category with a default value before encoding\n",
    "job_descriptions['job_title'].fillna('unknown', inplace=True)\n",
    "resumes['job_title'].fillna('unknown', inplace=True)\n",
    "resumes['category'].fillna('unknown', inplace=True)\n",
    "\n",
    "# Ensure job_ids and candidate_ids are correctly assigned\n",
    "job_descriptions['job_id'] = range(1, len(job_descriptions) + 1)\n",
    "resumes['candidate_id'] = range(1, len(resumes) + 1)\n",
    "\n",
    "# Add 'unknown' to the list of all titles and categories to handle unseen labels\n",
    "all_titles = job_descriptions['job_title'].tolist() + resumes['job_title'].tolist()\n",
    "all_titles.append('unknown')\n",
    "all_categories = resumes['category'].tolist()\n",
    "all_categories.append('unknown')"
   ],
   "id": "b70a742ea5564a74",
   "outputs": [],
   "execution_count": 214
  },
  {
   "metadata": {
    "ExecuteTime": {
     "end_time": "2024-05-25T22:37:15.235023Z",
     "start_time": "2024-05-25T22:37:15.195162Z"
    }
   },
   "cell_type": "code",
   "source": [
    "# Fit the label encoders\n",
    "le_job_title = LabelEncoder()\n",
    "le_category = LabelEncoder()\n",
    "le_job_title.fit(all_titles)\n",
    "le_category.fit(all_categories)\n",
    "\n",
    "# Transform the columns\n",
    "job_descriptions['job_title'] = le_job_title.transform(job_descriptions['job_title'])\n",
    "resumes['job_title'] = le_job_title.transform(resumes['job_title'])\n",
    "resumes['category'] = le_category.transform(resumes['category'])\n",
    "\n",
    "# Encode skills\n",
    "all_skills = set(skill for skills in job_descriptions['skills'].tolist() + resumes['skills'].tolist() for skill in skills)\n",
    "le_skills = {skill: i for i, skill in enumerate(all_skills)}"
   ],
   "id": "c49775725ec99b91",
   "outputs": [],
   "execution_count": 215
  },
  {
   "metadata": {
    "ExecuteTime": {
     "end_time": "2024-05-25T22:45:06.162279Z",
     "start_time": "2024-05-25T22:37:15.236031Z"
    }
   },
   "cell_type": "code",
   "source": [
    "# Create nodes and edges for the graph\n",
    "nodes = []\n",
    "edges = []\n",
    "node_features = []\n",
    "\n",
    "# Add job nodes\n",
    "for i, row in job_descriptions.iterrows():\n",
    "    nodes.append(row['job_id'])\n",
    "    skills_vector = [0] * len(le_skills)\n",
    "    if row['skills']:  # Check if skills are not empty\n",
    "        for skill in row['skills']:\n",
    "            skills_vector[le_skills[skill]] = 1\n",
    "    node_features.append([row['job_title'], row['min_experience']] + skills_vector)\n",
    "\n",
    "# Add resume nodes, using 'category' instead of 'job_title'\n",
    "for i, row in resumes.iterrows():\n",
    "    nodes.append(row['candidate_id'] + len(job_descriptions))\n",
    "    skills_vector = [0] * len(le_skills)\n",
    "    if row['skills']:  # Check if skills are not empty\n",
    "        for skill in row['skills']:\n",
    "            skills_vector[le_skills[skill]] = 1\n",
    "    node_features.append([row['job_title'], row['experience']] + skills_vector)\n",
    "\n",
    "# Add edges based on job_title overlap\n",
    "# for i, job in job_descriptions.iterrows():\n",
    "#     for j, resume in resumes.iterrows():\n",
    "#         if job['job_title'] == resume['job_title']:  # Changed from resume['job_title'] to resume['category']\n",
    "#             edges.append((job['job_id'], resume['candidate_id'] + len(job_descriptions)))\n",
    "\n",
    "def skills_overlap(job_skills, resume_skills):\n",
    "    return len(set(job_skills).intersection(set(resume_skills)))\n",
    "\n",
    "threshold = 1  # Set a threshold for the minimum number of overlapping skills\n",
    "\n",
    "# for i, job in job_descriptions.iterrows():\n",
    "#     for j, resume in resumes.iterrows():\n",
    "#         overlap = skills_overlap(job['skills'], resume['skills'])\n",
    "#         if overlap >= threshold:\n",
    "#             edges.append((job['job_id'], resume['candidate_id'] + len(job_descriptions)))\n",
    "\n",
    "for i, job in job_descriptions.iterrows():\n",
    "    for j, resume in resumes.iterrows():\n",
    "        if job['job_title'] == resume['job_title'] or skills_overlap(job['skills'], resume['skills']) >= threshold:\n",
    "            edges.append((job['job_id'], resume['candidate_id'] + len(job_descriptions)))"
   ],
   "id": "f4b872c380c1063b",
   "outputs": [],
   "execution_count": 216
  },
  {
   "metadata": {
    "ExecuteTime": {
     "end_time": "2024-05-25T22:45:09.794325Z",
     "start_time": "2024-05-25T22:45:06.162785Z"
    }
   },
   "cell_type": "code",
   "source": [
    "# Correct node indices\n",
    "num_job_nodes = len(job_descriptions)\n",
    "num_resume_nodes = len(resumes)\n",
    "total_nodes = num_job_nodes + num_resume_nodes\n",
    "\n",
    "# Reindex edges to ensure correct range\n",
    "edge_index = torch.tensor(edges, dtype=torch.long).t().contiguous()\n",
    "edge_index[0] = edge_index[0].clamp(0, total_nodes - 1)\n",
    "edge_index[1] = edge_index[1].clamp(0, total_nodes - 1)\n",
    "\n",
    "# Convert to torch tensors\n",
    "x = torch.tensor(node_features, dtype=torch.float)\n",
    "\n",
    "# Create PyTorch Geometric data object\n",
    "data = Data(x=x, edge_index=edge_index)\n",
    "\n",
    "# Ensure edge indices are within range\n",
    "data.edge_index = edge_index\n",
    "data.num_nodes = total_nodes\n",
    "\n",
    "# Splitting edges for training/validation\n",
    "data = train_test_split_edges(data)\n",
    "\n",
    "# Manually create negative edges for training\n",
    "neg_edge_index_train = negative_sampling(\n",
    "    edge_index=data.train_pos_edge_index,\n",
    "    num_nodes=data.num_nodes,\n",
    "    num_neg_samples=data.train_pos_edge_index.size(1)\n",
    ")\n",
    "data.train_neg_edge_index = neg_edge_index_train\n",
    "\n",
    "# Manually create negative edges for testing\n",
    "neg_edge_index_test = negative_sampling(\n",
    "    edge_index=data.test_pos_edge_index,\n",
    "    num_nodes=data.num_nodes,\n",
    "    num_neg_samples=data.test_pos_edge_index.size(1)\n",
    ")\n",
    "data.test_neg_edge_index = neg_edge_index_test"
   ],
   "id": "91f230b61ba4cc8a",
   "outputs": [],
   "execution_count": 217
  },
  {
   "metadata": {
    "ExecuteTime": {
     "end_time": "2024-05-25T22:45:09.799844Z",
     "start_time": "2024-05-25T22:45:09.794325Z"
    }
   },
   "cell_type": "code",
   "source": [
    "class GAE(torch.nn.Module):\n",
    "    def __init__(self, in_channels, out_channels):\n",
    "        super(GAE, self).__init__()\n",
    "        self.conv1 = GCNConv(in_channels, 2 * out_channels)\n",
    "        self.conv2 = GCNConv(2 * out_channels, out_channels)\n",
    "\n",
    "    def encode(self, x, edge_index):\n",
    "        x = F.relu(self.conv1(x, edge_index))\n",
    "        return self.conv2(x, edge_index)\n",
    "\n",
    "    def decode(self, z, pos_edge_index, neg_edge_index):\n",
    "        pos_pred = (z[pos_edge_index[0].long()] * z[pos_edge_index[1].long()]).sum(dim=1)\n",
    "        neg_pred = (z[neg_edge_index[0].long()] * z[neg_edge_index[1].long()]).sum(dim=1)\n",
    "        return pos_pred, neg_pred\n",
    "\n",
    "    def forward(self, data):\n",
    "        z = self.encode(data.x, data.train_pos_edge_index)\n",
    "        return z"
   ],
   "id": "280a1a320e603e0a",
   "outputs": [],
   "execution_count": 218
  },
  {
   "metadata": {
    "ExecuteTime": {
     "end_time": "2024-05-25T22:45:09.809781Z",
     "start_time": "2024-05-25T22:45:09.799844Z"
    }
   },
   "cell_type": "code",
   "source": [
    "# Initialize model, optimizer, and loss function\n",
    "model = GAE(data.num_node_features, 32)\n",
    "optimizer = torch.optim.Adam(model.parameters(), lr=0.001)\n",
    "# scheduler = torch.optim.lr_scheduler.StepLR(optimizer, step_size=10, gamma=0.9)\n",
    "loss_fn = torch.nn.BCEWithLogitsLoss()"
   ],
   "id": "d9923f5f9b0fdb86",
   "outputs": [],
   "execution_count": 219
  },
  {
   "metadata": {
    "ExecuteTime": {
     "end_time": "2024-05-25T22:45:09.814537Z",
     "start_time": "2024-05-25T22:45:09.809781Z"
    }
   },
   "cell_type": "code",
   "source": [
    "# Training loop with better numerical stability checks\n",
    "def train(data):\n",
    "    model.train()\n",
    "    optimizer.zero_grad()\n",
    "    z = model.encode(data.x, data.train_pos_edge_index)\n",
    "    pos_pred, neg_pred = model.decode(z, data.train_pos_edge_index, data.train_neg_edge_index)\n",
    "    pos_loss = loss_fn(pos_pred, torch.ones_like(pos_pred))\n",
    "    neg_loss = loss_fn(neg_pred, torch.zeros_like(neg_pred))\n",
    "    loss = pos_loss + neg_loss\n",
    "    if torch.isnan(loss) or torch.isinf(loss):\n",
    "        print(\"Warning: NaN or Inf loss detected\")\n",
    "        return float('inf')\n",
    "    loss.backward()\n",
    "    optimizer.step()\n",
    "    # scheduler.step()\n",
    "    return loss.item()"
   ],
   "id": "d59e18cf369aff0b",
   "outputs": [],
   "execution_count": 220
  },
  {
   "metadata": {
    "ExecuteTime": {
     "end_time": "2024-05-25T22:48:16.390329Z",
     "start_time": "2024-05-25T22:45:09.814537Z"
    }
   },
   "cell_type": "code",
   "source": [
    "for epoch in range(1000):\n",
    "    loss = train(data)\n",
    "    if loss == float('inf'):\n",
    "        break\n",
    "    if epoch % 100 == 0:\n",
    "        print(f'Epoch {epoch}, Loss: {loss}')"
   ],
   "id": "819793948be2b1e8",
   "outputs": [
    {
     "name": "stdout",
     "output_type": "stream",
     "text": [
      "Epoch 0, Loss: 10419.33203125\n",
      "Epoch 100, Loss: 5.250580787658691\n",
      "Epoch 200, Loss: 2.2756834030151367\n",
      "Epoch 300, Loss: 1.1235500574111938\n",
      "Epoch 400, Loss: 1.0587289333343506\n",
      "Epoch 500, Loss: 1.039675235748291\n"
     ]
    },
    {
     "ename": "KeyboardInterrupt",
     "evalue": "",
     "output_type": "error",
     "traceback": [
      "\u001B[1;31m---------------------------------------------------------------------------\u001B[0m",
      "\u001B[1;31mKeyboardInterrupt\u001B[0m                         Traceback (most recent call last)",
      "Cell \u001B[1;32mIn[221], line 2\u001B[0m\n\u001B[0;32m      1\u001B[0m \u001B[38;5;28;01mfor\u001B[39;00m epoch \u001B[38;5;129;01min\u001B[39;00m \u001B[38;5;28mrange\u001B[39m(\u001B[38;5;241m1000\u001B[39m):\n\u001B[1;32m----> 2\u001B[0m     loss \u001B[38;5;241m=\u001B[39m train(data)\n\u001B[0;32m      3\u001B[0m     \u001B[38;5;28;01mif\u001B[39;00m loss \u001B[38;5;241m==\u001B[39m \u001B[38;5;28mfloat\u001B[39m(\u001B[38;5;124m'\u001B[39m\u001B[38;5;124minf\u001B[39m\u001B[38;5;124m'\u001B[39m):\n\u001B[0;32m      4\u001B[0m         \u001B[38;5;28;01mbreak\u001B[39;00m\n",
      "Cell \u001B[1;32mIn[220], line 13\u001B[0m, in \u001B[0;36mtrain\u001B[1;34m(data)\u001B[0m\n\u001B[0;32m     11\u001B[0m     \u001B[38;5;28mprint\u001B[39m(\u001B[38;5;124m\"\u001B[39m\u001B[38;5;124mWarning: NaN or Inf loss detected\u001B[39m\u001B[38;5;124m\"\u001B[39m)\n\u001B[0;32m     12\u001B[0m     \u001B[38;5;28;01mreturn\u001B[39;00m \u001B[38;5;28mfloat\u001B[39m(\u001B[38;5;124m'\u001B[39m\u001B[38;5;124minf\u001B[39m\u001B[38;5;124m'\u001B[39m)\n\u001B[1;32m---> 13\u001B[0m loss\u001B[38;5;241m.\u001B[39mbackward()\n\u001B[0;32m     14\u001B[0m optimizer\u001B[38;5;241m.\u001B[39mstep()\n\u001B[0;32m     15\u001B[0m \u001B[38;5;66;03m# scheduler.step()\u001B[39;00m\n",
      "File \u001B[1;32m~\\miniconda3\\envs\\recommendation-system-v2\\Lib\\site-packages\\torch\\_tensor.py:525\u001B[0m, in \u001B[0;36mTensor.backward\u001B[1;34m(self, gradient, retain_graph, create_graph, inputs)\u001B[0m\n\u001B[0;32m    515\u001B[0m \u001B[38;5;28;01mif\u001B[39;00m has_torch_function_unary(\u001B[38;5;28mself\u001B[39m):\n\u001B[0;32m    516\u001B[0m     \u001B[38;5;28;01mreturn\u001B[39;00m handle_torch_function(\n\u001B[0;32m    517\u001B[0m         Tensor\u001B[38;5;241m.\u001B[39mbackward,\n\u001B[0;32m    518\u001B[0m         (\u001B[38;5;28mself\u001B[39m,),\n\u001B[1;32m   (...)\u001B[0m\n\u001B[0;32m    523\u001B[0m         inputs\u001B[38;5;241m=\u001B[39minputs,\n\u001B[0;32m    524\u001B[0m     )\n\u001B[1;32m--> 525\u001B[0m torch\u001B[38;5;241m.\u001B[39mautograd\u001B[38;5;241m.\u001B[39mbackward(\n\u001B[0;32m    526\u001B[0m     \u001B[38;5;28mself\u001B[39m, gradient, retain_graph, create_graph, inputs\u001B[38;5;241m=\u001B[39minputs\n\u001B[0;32m    527\u001B[0m )\n",
      "File \u001B[1;32m~\\miniconda3\\envs\\recommendation-system-v2\\Lib\\site-packages\\torch\\autograd\\__init__.py:267\u001B[0m, in \u001B[0;36mbackward\u001B[1;34m(tensors, grad_tensors, retain_graph, create_graph, grad_variables, inputs)\u001B[0m\n\u001B[0;32m    262\u001B[0m     retain_graph \u001B[38;5;241m=\u001B[39m create_graph\n\u001B[0;32m    264\u001B[0m \u001B[38;5;66;03m# The reason we repeat the same comment below is that\u001B[39;00m\n\u001B[0;32m    265\u001B[0m \u001B[38;5;66;03m# some Python versions print out the first line of a multi-line function\u001B[39;00m\n\u001B[0;32m    266\u001B[0m \u001B[38;5;66;03m# calls in the traceback and some print out the last line\u001B[39;00m\n\u001B[1;32m--> 267\u001B[0m _engine_run_backward(\n\u001B[0;32m    268\u001B[0m     tensors,\n\u001B[0;32m    269\u001B[0m     grad_tensors_,\n\u001B[0;32m    270\u001B[0m     retain_graph,\n\u001B[0;32m    271\u001B[0m     create_graph,\n\u001B[0;32m    272\u001B[0m     inputs,\n\u001B[0;32m    273\u001B[0m     allow_unreachable\u001B[38;5;241m=\u001B[39m\u001B[38;5;28;01mTrue\u001B[39;00m,\n\u001B[0;32m    274\u001B[0m     accumulate_grad\u001B[38;5;241m=\u001B[39m\u001B[38;5;28;01mTrue\u001B[39;00m,\n\u001B[0;32m    275\u001B[0m )\n",
      "File \u001B[1;32m~\\miniconda3\\envs\\recommendation-system-v2\\Lib\\site-packages\\torch\\autograd\\graph.py:744\u001B[0m, in \u001B[0;36m_engine_run_backward\u001B[1;34m(t_outputs, *args, **kwargs)\u001B[0m\n\u001B[0;32m    742\u001B[0m     unregister_hooks \u001B[38;5;241m=\u001B[39m _register_logging_hooks_on_whole_graph(t_outputs)\n\u001B[0;32m    743\u001B[0m \u001B[38;5;28;01mtry\u001B[39;00m:\n\u001B[1;32m--> 744\u001B[0m     \u001B[38;5;28;01mreturn\u001B[39;00m Variable\u001B[38;5;241m.\u001B[39m_execution_engine\u001B[38;5;241m.\u001B[39mrun_backward(  \u001B[38;5;66;03m# Calls into the C++ engine to run the backward pass\u001B[39;00m\n\u001B[0;32m    745\u001B[0m         t_outputs, \u001B[38;5;241m*\u001B[39margs, \u001B[38;5;241m*\u001B[39m\u001B[38;5;241m*\u001B[39mkwargs\n\u001B[0;32m    746\u001B[0m     )  \u001B[38;5;66;03m# Calls into the C++ engine to run the backward pass\u001B[39;00m\n\u001B[0;32m    747\u001B[0m \u001B[38;5;28;01mfinally\u001B[39;00m:\n\u001B[0;32m    748\u001B[0m     \u001B[38;5;28;01mif\u001B[39;00m attach_logging_hooks:\n",
      "\u001B[1;31mKeyboardInterrupt\u001B[0m: "
     ]
    }
   ],
   "execution_count": 221
  },
  {
   "metadata": {
    "ExecuteTime": {
     "end_time": "2024-05-25T22:48:19.597146Z",
     "start_time": "2024-05-25T22:48:19.579299Z"
    }
   },
   "cell_type": "code",
   "source": [
    "def evaluate_model(data, model):\n",
    "    model.eval()\n",
    "    with torch.no_grad():\n",
    "        z = model.encode(data.x, data.train_pos_edge_index)\n",
    "        pos_pred = torch.sigmoid((z[data.test_pos_edge_index[0].long()] * z[data.test_pos_edge_index[1].long()]).sum(dim=1)).cpu().numpy()\n",
    "        neg_pred = torch.sigmoid((z[data.test_neg_edge_index[0].long()] * z[data.test_neg_edge_index[1].long()]).sum(dim=1)).cpu().numpy()\n",
    "\n",
    "    y_true = np.concatenate([np.ones(pos_pred.shape[0]), np.zeros(neg_pred.shape[0])])\n",
    "    y_pred = np.concatenate([pos_pred, neg_pred])\n",
    "\n",
    "    auc_roc = roc_auc_score(y_true, y_pred)\n",
    "    ap = average_precision_score(y_true, y_pred)\n",
    "\n",
    "    return auc_roc, ap"
   ],
   "id": "dd65d2d7892ba243",
   "outputs": [],
   "execution_count": 222
  },
  {
   "metadata": {
    "ExecuteTime": {
     "end_time": "2024-05-25T22:48:20.270257Z",
     "start_time": "2024-05-25T22:48:20.100301Z"
    }
   },
   "cell_type": "code",
   "source": [
    "# Example usage\n",
    "auc_roc, ap = evaluate_model(data, model)\n",
    "print(f\"AUC-ROC: {auc_roc:.4f}, AP: {ap:.4f}\")"
   ],
   "id": "37b2a03df1f5ce83",
   "outputs": [
    {
     "name": "stdout",
     "output_type": "stream",
     "text": [
      "AUC-ROC: 0.9438, AP: 0.8916\n"
     ]
    }
   ],
   "execution_count": 223
  },
  {
   "metadata": {
    "ExecuteTime": {
     "end_time": "2024-05-25T22:48:21.500189Z",
     "start_time": "2024-05-25T22:48:21.488944Z"
    }
   },
   "cell_type": "code",
   "source": [
    "def predict_best_candidates(job_descriptions, resumes, z):\n",
    "    job_ids = job_descriptions['job_id'].values\n",
    "    candidate_ids = resumes['candidate_id'].values + len(job_descriptions)\n",
    "\n",
    "    predictions = []\n",
    "    for job_id, job_title, job_skills in zip(job_ids, job_descriptions['job_title'], job_descriptions['skills']):\n",
    "        best_match = None\n",
    "        best_score = float('-inf')\n",
    "        for candidate_id, category, candidate_job_title, skills in zip(\n",
    "                resumes['candidate_id'], resumes['category'], resumes['job_title'], resumes['skills']):\n",
    "            candidate_index = candidate_id + len(job_descriptions) - 1\n",
    "            job_index = job_id - 1\n",
    "\n",
    "            # Ensure indices are within range\n",
    "            if candidate_index >= z.size(0) or job_index >= z.size(0):\n",
    "                continue\n",
    "\n",
    "            score = torch.sigmoid(torch.dot(z[job_index], z[candidate_index])).item()\n",
    "            if score > best_score:\n",
    "                best_score = score\n",
    "                best_match = (job_id, job_title, candidate_id, candidate_job_title, category, skills, score)\n",
    "\n",
    "        if best_match:\n",
    "            job_id, job_title, candidate_id, candidate_job_title, category, skills, score = best_match\n",
    "            match_percentage = score * 100  # Assuming the score is between 0 and 1\n",
    "            predictions.append({\n",
    "                \"Job ID\": job_id,\n",
    "                \"Job Title\": le_job_title.inverse_transform([job_title])[0],\n",
    "                \"Candidate ID\": candidate_id,\n",
    "                \"Candidate Job Title\": le_job_title.inverse_transform([candidate_job_title])[0],\n",
    "                \"Candidate Category\": le_category.inverse_transform([category])[0],\n",
    "                \"Match Percentage\": match_percentage,\n",
    "                \"Job Skills\": job_skills,\n",
    "                \"Candidate Skills\": skills\n",
    "            })\n",
    "\n",
    "    predictions_df = pd.DataFrame(predictions)\n",
    "    return predictions_df"
   ],
   "id": "d9b4e3dd15402801",
   "outputs": [],
   "execution_count": 224
  },
  {
   "metadata": {
    "ExecuteTime": {
     "end_time": "2024-05-25T22:48:23.464396Z",
     "start_time": "2024-05-25T22:48:23.336452Z"
    }
   },
   "cell_type": "code",
   "source": [
    "# Example usage\n",
    "with torch.no_grad():\n",
    "    z = model.encode(data.x, data.train_pos_edge_index)"
   ],
   "id": "455e4c57053c84e",
   "outputs": [],
   "execution_count": 225
  },
  {
   "metadata": {
    "ExecuteTime": {
     "end_time": "2024-05-25T22:48:26.268859Z",
     "start_time": "2024-05-25T22:48:24.441096Z"
    }
   },
   "cell_type": "code",
   "source": [
    "predictions_df = predict_best_candidates(job_descriptions.sample(frac=1, random_state=random_seed)[:100], resumes, z)\n",
    "\n",
    "torch.save(model.state_dict(), f\"./models/gcn-recommendation-system-{auc_roc:.2f}-acc-{uuid.uuid4()}-{time.strftime('%Y%m%d-%H%M%S')}-v1.pth\")"
   ],
   "id": "initial_id",
   "outputs": [],
   "execution_count": 226
  },
  {
   "metadata": {
    "ExecuteTime": {
     "end_time": "2024-05-25T22:48:26.278876Z",
     "start_time": "2024-05-25T22:48:26.268859Z"
    }
   },
   "cell_type": "code",
   "source": "predictions_df.head(1000)",
   "id": "3d6f035b4107326f",
   "outputs": [
    {
     "data": {
      "text/plain": [
       "    Job ID                        Job Title  Candidate ID  \\\n",
       "0     6253            network administrator          1895   \n",
       "1     4685  customer service representative          1895   \n",
       "2     1732              procurement manager          1895   \n",
       "3     4743                account executive          1895   \n",
       "4     4522                    legal counsel          1895   \n",
       "..     ...                              ...           ...   \n",
       "95    3788             supply chain manager          1034   \n",
       "96    9190                   ux/ui designer          1034   \n",
       "97    7826                 graphic designer           410   \n",
       "98    7540           procurement specialist          1895   \n",
       "99    7232                 technical writer          1895   \n",
       "\n",
       "     Candidate Job Title Candidate Category  Match Percentage  \\\n",
       "0       staff accountant         accountant         81.596583   \n",
       "1       staff accountant         accountant         86.863428   \n",
       "2       staff accountant         accountant         99.982601   \n",
       "3       staff accountant         accountant         73.148596   \n",
       "4       staff accountant         accountant         78.758568   \n",
       "..                   ...                ...               ...   \n",
       "95  sales representative              sales         93.983310   \n",
       "96  sales representative              sales         99.952412   \n",
       "97           art teacher            teacher         84.570032   \n",
       "98      staff accountant         accountant         69.671351   \n",
       "99      staff accountant         accountant         93.836242   \n",
       "\n",
       "                                           Job Skills  \\\n",
       "0   [system administration, server maintenance, ac...   \n",
       "1   [live chat support, online customer communicat...   \n",
       "2   [procurement processes, vendor assessment, con...   \n",
       "3   [key account management, sales strategy develo...   \n",
       "4   [intellectual property law, trademark and pate...   \n",
       "..                                                ...   \n",
       "95  [demand forecasting, inventory management, dat...   \n",
       "96  [u, i design principles and best practices, gr...   \n",
       "97  [user interface, u, i, user experience, u, x, ...   \n",
       "98  [procurement strategies, supplier management, ...   \n",
       "99  [writing skills, content creation, s, e, o kno...   \n",
       "\n",
       "                                     Candidate Skills  \n",
       "0   [business, software, support, database, play, ...  \n",
       "1   [business, software, support, database, play, ...  \n",
       "2   [business, software, support, database, play, ...  \n",
       "3   [business, software, support, database, play, ...  \n",
       "4   [business, software, support, database, play, ...  \n",
       "..                                                ...  \n",
       "95                                            [relay]  \n",
       "96                                            [relay]  \n",
       "97     [monitoring, support, box, testing, marketing]  \n",
       "98  [business, software, support, database, play, ...  \n",
       "99  [business, software, support, database, play, ...  \n",
       "\n",
       "[100 rows x 8 columns]"
      ],
      "text/html": [
       "<div>\n",
       "<style scoped>\n",
       "    .dataframe tbody tr th:only-of-type {\n",
       "        vertical-align: middle;\n",
       "    }\n",
       "\n",
       "    .dataframe tbody tr th {\n",
       "        vertical-align: top;\n",
       "    }\n",
       "\n",
       "    .dataframe thead th {\n",
       "        text-align: right;\n",
       "    }\n",
       "</style>\n",
       "<table border=\"1\" class=\"dataframe\">\n",
       "  <thead>\n",
       "    <tr style=\"text-align: right;\">\n",
       "      <th></th>\n",
       "      <th>Job ID</th>\n",
       "      <th>Job Title</th>\n",
       "      <th>Candidate ID</th>\n",
       "      <th>Candidate Job Title</th>\n",
       "      <th>Candidate Category</th>\n",
       "      <th>Match Percentage</th>\n",
       "      <th>Job Skills</th>\n",
       "      <th>Candidate Skills</th>\n",
       "    </tr>\n",
       "  </thead>\n",
       "  <tbody>\n",
       "    <tr>\n",
       "      <th>0</th>\n",
       "      <td>6253</td>\n",
       "      <td>network administrator</td>\n",
       "      <td>1895</td>\n",
       "      <td>staff accountant</td>\n",
       "      <td>accountant</td>\n",
       "      <td>81.596583</td>\n",
       "      <td>[system administration, server maintenance, ac...</td>\n",
       "      <td>[business, software, support, database, play, ...</td>\n",
       "    </tr>\n",
       "    <tr>\n",
       "      <th>1</th>\n",
       "      <td>4685</td>\n",
       "      <td>customer service representative</td>\n",
       "      <td>1895</td>\n",
       "      <td>staff accountant</td>\n",
       "      <td>accountant</td>\n",
       "      <td>86.863428</td>\n",
       "      <td>[live chat support, online customer communicat...</td>\n",
       "      <td>[business, software, support, database, play, ...</td>\n",
       "    </tr>\n",
       "    <tr>\n",
       "      <th>2</th>\n",
       "      <td>1732</td>\n",
       "      <td>procurement manager</td>\n",
       "      <td>1895</td>\n",
       "      <td>staff accountant</td>\n",
       "      <td>accountant</td>\n",
       "      <td>99.982601</td>\n",
       "      <td>[procurement processes, vendor assessment, con...</td>\n",
       "      <td>[business, software, support, database, play, ...</td>\n",
       "    </tr>\n",
       "    <tr>\n",
       "      <th>3</th>\n",
       "      <td>4743</td>\n",
       "      <td>account executive</td>\n",
       "      <td>1895</td>\n",
       "      <td>staff accountant</td>\n",
       "      <td>accountant</td>\n",
       "      <td>73.148596</td>\n",
       "      <td>[key account management, sales strategy develo...</td>\n",
       "      <td>[business, software, support, database, play, ...</td>\n",
       "    </tr>\n",
       "    <tr>\n",
       "      <th>4</th>\n",
       "      <td>4522</td>\n",
       "      <td>legal counsel</td>\n",
       "      <td>1895</td>\n",
       "      <td>staff accountant</td>\n",
       "      <td>accountant</td>\n",
       "      <td>78.758568</td>\n",
       "      <td>[intellectual property law, trademark and pate...</td>\n",
       "      <td>[business, software, support, database, play, ...</td>\n",
       "    </tr>\n",
       "    <tr>\n",
       "      <th>...</th>\n",
       "      <td>...</td>\n",
       "      <td>...</td>\n",
       "      <td>...</td>\n",
       "      <td>...</td>\n",
       "      <td>...</td>\n",
       "      <td>...</td>\n",
       "      <td>...</td>\n",
       "      <td>...</td>\n",
       "    </tr>\n",
       "    <tr>\n",
       "      <th>95</th>\n",
       "      <td>3788</td>\n",
       "      <td>supply chain manager</td>\n",
       "      <td>1034</td>\n",
       "      <td>sales representative</td>\n",
       "      <td>sales</td>\n",
       "      <td>93.983310</td>\n",
       "      <td>[demand forecasting, inventory management, dat...</td>\n",
       "      <td>[relay]</td>\n",
       "    </tr>\n",
       "    <tr>\n",
       "      <th>96</th>\n",
       "      <td>9190</td>\n",
       "      <td>ux/ui designer</td>\n",
       "      <td>1034</td>\n",
       "      <td>sales representative</td>\n",
       "      <td>sales</td>\n",
       "      <td>99.952412</td>\n",
       "      <td>[u, i design principles and best practices, gr...</td>\n",
       "      <td>[relay]</td>\n",
       "    </tr>\n",
       "    <tr>\n",
       "      <th>97</th>\n",
       "      <td>7826</td>\n",
       "      <td>graphic designer</td>\n",
       "      <td>410</td>\n",
       "      <td>art teacher</td>\n",
       "      <td>teacher</td>\n",
       "      <td>84.570032</td>\n",
       "      <td>[user interface, u, i, user experience, u, x, ...</td>\n",
       "      <td>[monitoring, support, box, testing, marketing]</td>\n",
       "    </tr>\n",
       "    <tr>\n",
       "      <th>98</th>\n",
       "      <td>7540</td>\n",
       "      <td>procurement specialist</td>\n",
       "      <td>1895</td>\n",
       "      <td>staff accountant</td>\n",
       "      <td>accountant</td>\n",
       "      <td>69.671351</td>\n",
       "      <td>[procurement strategies, supplier management, ...</td>\n",
       "      <td>[business, software, support, database, play, ...</td>\n",
       "    </tr>\n",
       "    <tr>\n",
       "      <th>99</th>\n",
       "      <td>7232</td>\n",
       "      <td>technical writer</td>\n",
       "      <td>1895</td>\n",
       "      <td>staff accountant</td>\n",
       "      <td>accountant</td>\n",
       "      <td>93.836242</td>\n",
       "      <td>[writing skills, content creation, s, e, o kno...</td>\n",
       "      <td>[business, software, support, database, play, ...</td>\n",
       "    </tr>\n",
       "  </tbody>\n",
       "</table>\n",
       "<p>100 rows × 8 columns</p>\n",
       "</div>"
      ]
     },
     "execution_count": 227,
     "metadata": {},
     "output_type": "execute_result"
    }
   ],
   "execution_count": 227
  },
  {
   "metadata": {},
   "cell_type": "code",
   "source": "",
   "id": "21942676a9d862da",
   "outputs": [],
   "execution_count": null
  }
 ],
 "metadata": {
  "kernelspec": {
   "display_name": "Python 3",
   "language": "python",
   "name": "python3"
  },
  "language_info": {
   "codemirror_mode": {
    "name": "ipython",
    "version": 2
   },
   "file_extension": ".py",
   "mimetype": "text/x-python",
   "name": "python",
   "nbconvert_exporter": "python",
   "pygments_lexer": "ipython2",
   "version": "2.7.6"
  }
 },
 "nbformat": 4,
 "nbformat_minor": 5
}
