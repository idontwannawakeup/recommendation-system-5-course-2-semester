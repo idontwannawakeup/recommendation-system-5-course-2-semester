{
 "cells": [
  {
   "metadata": {},
   "cell_type": "code",
   "source": "# GAE",
   "id": "74f7ed965b90fc08",
   "outputs": [],
   "execution_count": null
  },
  {
   "metadata": {
    "ExecuteTime": {
     "end_time": "2024-05-26T20:45:31.807926Z",
     "start_time": "2024-05-26T20:45:28.687652Z"
    }
   },
   "cell_type": "code",
   "source": [
    "import torch\n",
    "import torch.nn.functional as F\n",
    "from torch_geometric.nn import GCNConv\n",
    "from torch_geometric.data import Data\n",
    "from torch_geometric.utils import train_test_split_edges, negative_sampling\n",
    "import pandas as pd\n",
    "import uuid\n",
    "import time\n",
    "from sklearn.preprocessing import LabelEncoder\n",
    "from sklearn.metrics import roc_auc_score, average_precision_score\n",
    "\n",
    "from ast import literal_eval\n",
    "import numpy as np\n",
    "\n",
    "from torch_geometric.nn import Node2Vec\n",
    "\n",
    "import warnings\n",
    "warnings.filterwarnings('ignore')"
   ],
   "id": "a511aa2d122e9de1",
   "outputs": [],
   "execution_count": 1
  },
  {
   "metadata": {
    "ExecuteTime": {
     "end_time": "2024-05-26T20:54:03.667470Z",
     "start_time": "2024-05-26T20:54:03.508917Z"
    }
   },
   "cell_type": "code",
   "source": [
    "# Set random seed for reproducibility\n",
    "random_seed = 42\n",
    "np.random.seed(random_seed)\n",
    "\n",
    "# Load datasets\n",
    "job_descriptions = pd.read_csv('./data/processed/job_descriptions_processed-v4.csv')\n",
    "resumes = pd.read_csv('./data/processed/general-resume-dataset-processed-v4.csv', converters={'skills': literal_eval})\n",
    "\n",
    "# Shuffle job_descriptions and select the first N rows\n",
    "job_descriptions = job_descriptions.sample(frac=1, random_state=random_seed).head(10000)\n",
    "\n",
    "# Convert 'skills' column to list\n",
    "job_descriptions['skills'] = job_descriptions['skills'].apply(literal_eval)"
   ],
   "id": "fa9cfddac8b5ada2",
   "outputs": [],
   "execution_count": 48
  },
  {
   "metadata": {
    "ExecuteTime": {
     "end_time": "2024-05-26T20:54:03.850813Z",
     "start_time": "2024-05-26T20:54:03.845862Z"
    }
   },
   "cell_type": "code",
   "source": [
    "# Replace None values in job_title and category with a default value before encoding\n",
    "job_descriptions['job_title'].fillna('unknown', inplace=True)\n",
    "resumes['job_title'].fillna('unknown', inplace=True)\n",
    "resumes['category'].fillna('unknown', inplace=True)\n",
    "\n",
    "# Ensure job_ids and candidate_ids are correctly assigned\n",
    "job_descriptions['job_id'] = range(1, len(job_descriptions) + 1)\n",
    "resumes['candidate_id'] = range(1, len(resumes) + 1)\n",
    "\n",
    "# Add 'unknown' to the list of all titles and categories to handle unseen labels\n",
    "all_titles = job_descriptions['job_title'].tolist() + resumes['job_title'].tolist()\n",
    "all_titles.append('unknown')\n",
    "all_categories = resumes['category'].tolist()\n",
    "all_categories.append('unknown')"
   ],
   "id": "b70a742ea5564a74",
   "outputs": [],
   "execution_count": 49
  },
  {
   "metadata": {
    "ExecuteTime": {
     "end_time": "2024-05-26T20:54:04.380266Z",
     "start_time": "2024-05-26T20:54:04.356016Z"
    }
   },
   "cell_type": "code",
   "source": [
    "# Fit the label encoders\n",
    "le_job_title = LabelEncoder()\n",
    "le_category = LabelEncoder()\n",
    "le_job_title.fit(all_titles)\n",
    "le_category.fit(all_categories)\n",
    "\n",
    "# Transform the columns\n",
    "job_descriptions['job_title'] = le_job_title.transform(job_descriptions['job_title'])\n",
    "resumes['job_title'] = le_job_title.transform(resumes['job_title'])\n",
    "resumes['category'] = le_category.transform(resumes['category'])\n",
    "\n",
    "# Encode skills\n",
    "all_skills = set(skill for skills in job_descriptions['skills'].tolist() + resumes['skills'].tolist() for skill in skills)\n",
    "le_skills = {skill: i for i, skill in enumerate(all_skills)}"
   ],
   "id": "c49775725ec99b91",
   "outputs": [],
   "execution_count": 50
  },
  {
   "metadata": {
    "ExecuteTime": {
     "end_time": "2024-05-26T20:54:05.822684Z",
     "start_time": "2024-05-26T20:54:04.956877Z"
    }
   },
   "cell_type": "code",
   "source": [
    "# Create nodes and edges for the graph\n",
    "nodes = []\n",
    "edges = []\n",
    "weights = []\n",
    "node_features = []\n",
    "\n",
    "jobs_from_edges = []\n",
    "candidates_from_edges = []\n",
    "jobs_and_candidates_from_edges = []\n",
    "\n",
    "skill_weight_multiplier = 3  # Weight for skill overlap\n",
    "title_weight = 15  # Weight for job title match\n",
    "\n",
    "# Add job nodes\n",
    "for i, row in job_descriptions.iterrows():\n",
    "    nodes.append(row['job_id'])\n",
    "    skills_vector = [0] * len(le_skills)\n",
    "    if row['skills']:  # Check if skills are not empty\n",
    "        for skill in row['skills']:\n",
    "            skills_vector[le_skills[skill]] = 1\n",
    "    node_features.append([row['job_title']] + skills_vector)\n",
    "\n",
    "# Add resume nodes, using 'category' instead of 'job_title'\n",
    "for i, row in resumes.iterrows():\n",
    "    nodes.append(row['candidate_id'] + len(job_descriptions))\n",
    "    skills_vector = [0] * len(le_skills)\n",
    "    if row['skills']:  # Check if skills are not empty\n",
    "        for skill in row['skills']:\n",
    "            skills_vector[le_skills[skill]] = 1\n",
    "    node_features.append([row['job_title']] + skills_vector)"
   ],
   "id": "5e3e9b0edc1243a7",
   "outputs": [],
   "execution_count": 51
  },
  {
   "metadata": {
    "ExecuteTime": {
     "end_time": "2024-05-26T20:54:11.905915Z",
     "start_time": "2024-05-26T20:54:05.823690Z"
    }
   },
   "cell_type": "code",
   "source": [
    "# Convert job_skills and resume_skills to sets once\n",
    "job_descriptions['skills'] = job_descriptions['skills'].apply(set)\n",
    "resumes['skills'] = resumes['skills'].apply(set)\n",
    "\n",
    "# Create dictionaries for quick lookup\n",
    "job_skills_dict = job_descriptions.set_index('job_id')['skills'].to_dict()\n",
    "resume_skills_dict = resumes.set_index('candidate_id')['skills'].to_dict()\n",
    "job_titles_dict = job_descriptions.set_index('job_id')['job_title'].to_dict()\n",
    "resume_titles_dict = resumes.set_index('candidate_id')['job_title'].to_dict()\n",
    "\n",
    "edges = []\n",
    "weights = []\n",
    "jobs_and_candidates_from_edges = []\n",
    "jobs_from_edges = []\n",
    "candidates_from_edges = []\n",
    "\n",
    "for job_id, job_skills in job_skills_dict.items():\n",
    "    for candidate_id, resume_skills in resume_skills_dict.items():\n",
    "        overlap = len(job_skills.intersection(resume_skills))\n",
    "        combined_weight = overlap * skill_weight_multiplier\n",
    "\n",
    "        if job_titles_dict[job_id] == resume_titles_dict[candidate_id]:\n",
    "            combined_weight += title_weight  # Add weight for job title match\n",
    "\n",
    "        if combined_weight > 0:\n",
    "            edges.append((job_id, candidate_id + len(job_descriptions)))\n",
    "            weights.append(combined_weight)\n",
    "            jobs_and_candidates_from_edges.append((job_id, candidate_id))\n",
    "            jobs_from_edges.append(job_id)\n",
    "            candidates_from_edges.append(candidate_id)\n",
    "\n",
    "nodes_length = len(nodes)"
   ],
   "id": "f46e1bb964b76a01",
   "outputs": [],
   "execution_count": 52
  },
  {
   "metadata": {
    "ExecuteTime": {
     "end_time": "2024-05-26T20:54:12.154264Z",
     "start_time": "2024-05-26T20:54:11.906924Z"
    }
   },
   "cell_type": "code",
   "source": [
    "edge_index = torch.tensor(edges, dtype=torch.long).t().contiguous()\n",
    "edge_weight = torch.tensor(weights, dtype=torch.float)\n",
    "edge_index = edge_index.clamp(0, nodes_length - 1)"
   ],
   "id": "f4b872c380c1063b",
   "outputs": [],
   "execution_count": 53
  },
  {
   "metadata": {
    "ExecuteTime": {
     "end_time": "2024-05-26T20:54:12.175697Z",
     "start_time": "2024-05-26T20:54:12.155268Z"
    }
   },
   "cell_type": "code",
   "source": [
    "torch.save(edge_index, './data/features/edge_index-10k-a03.pt')\n",
    "torch.save(edge_weight, './data/features/edge_weight-10k-a03.pt')\n",
    "with open('./data/features/nodes_len-10k-a03.txt', 'w') as file:\n",
    "    file.write(str(len(nodes)))"
   ],
   "id": "6221488afb2fe330",
   "outputs": [],
   "execution_count": 54
  },
  {
   "metadata": {
    "ExecuteTime": {
     "end_time": "2024-05-26T20:54:12.178701Z",
     "start_time": "2024-05-26T20:54:12.175697Z"
    }
   },
   "cell_type": "code",
   "source": [
    "# edge_index = torch.load('./data/features/edge_index-10k-a03.pt')\n",
    "# edge_weight = torch.load('./data/features/edge_weight-10k-a03.pt')\n",
    "# nodes_length = 0\n",
    "# with open('./data/features/nodes_len-10k-a03.txt', 'r') as file:\n",
    "#     nodes_length = np.int64(file.read())"
   ],
   "id": "fedaf4988a9294bf",
   "outputs": [],
   "execution_count": 55
  },
  {
   "metadata": {
    "ExecuteTime": {
     "end_time": "2024-05-26T20:54:14.754471Z",
     "start_time": "2024-05-26T20:54:12.180210Z"
    }
   },
   "cell_type": "code",
   "source": [
    "# Convert node features to tensor\n",
    "x = torch.tensor(node_features, dtype=torch.float)"
   ],
   "id": "3550945e1238da95",
   "outputs": [],
   "execution_count": 56
  },
  {
   "metadata": {
    "ExecuteTime": {
     "end_time": "2024-05-26T20:54:14.946198Z",
     "start_time": "2024-05-26T20:54:14.755478Z"
    }
   },
   "cell_type": "code",
   "source": "torch.save(x, './data/features/x-10k-a03.pt')",
   "id": "a21ff20f9cd3368f",
   "outputs": [],
   "execution_count": 57
  },
  {
   "metadata": {
    "ExecuteTime": {
     "end_time": "2024-05-26T20:54:14.949304Z",
     "start_time": "2024-05-26T20:54:14.947204Z"
    }
   },
   "cell_type": "code",
   "source": "# x = torch.load('./data/features/x-10k-a03.pt')",
   "id": "c620e7b3c4d55285",
   "outputs": [],
   "execution_count": 58
  },
  {
   "metadata": {
    "ExecuteTime": {
     "end_time": "2024-05-26T20:54:16.521389Z",
     "start_time": "2024-05-26T20:54:14.950311Z"
    }
   },
   "cell_type": "code",
   "source": [
    "# Create PyTorch Geometric data object\n",
    "data = Data(x=x, edge_index=edge_index, edge_weight=edge_weight)\n",
    "\n",
    "# Ensure edge indices are within range\n",
    "# data.num_nodes = nodes_length\n",
    "\n",
    "original_edge_index = data.edge_index.clone()\n",
    "# original_edge_weight = data.edge_weight.clone()\n",
    "\n",
    "# Splitting edges for training/validation\n",
    "data = train_test_split_edges(data)"
   ],
   "id": "88519b6f8f6d76b4",
   "outputs": [],
   "execution_count": 59
  },
  {
   "metadata": {
    "ExecuteTime": {
     "end_time": "2024-05-26T20:54:22.728662Z",
     "start_time": "2024-05-26T20:54:16.522393Z"
    }
   },
   "cell_type": "code",
   "source": [
    "# Create a dictionary to map edge indices to their weights\n",
    "edge_weight_dict = {tuple(edge_index[:, i].tolist()): edge_weight[i].item() for i in range(edge_index.size(1))}\n",
    "\n",
    "def get_edge_weights(edge_index, edge_weight_dict):\n",
    "    weights = []\n",
    "    for i in range(edge_index.size(1)):\n",
    "        edge = tuple(edge_index[:, i].tolist())\n",
    "        weight = edge_weight_dict.get(edge, 0)  # Default to 0 if edge not found\n",
    "        weights.append(weight)\n",
    "    return torch.tensor(weights, dtype=torch.float)"
   ],
   "id": "92a9f77324216cda",
   "outputs": [],
   "execution_count": 60
  },
  {
   "metadata": {
    "ExecuteTime": {
     "end_time": "2024-05-26T20:54:30.482481Z",
     "start_time": "2024-05-26T20:54:22.729172Z"
    }
   },
   "cell_type": "code",
   "source": [
    "train_edge_weights = get_edge_weights(data.train_pos_edge_index, edge_weight_dict)\n",
    "test_edge_weights = get_edge_weights(data.test_pos_edge_index, edge_weight_dict)\n",
    "val_edge_weights = get_edge_weights(data.val_pos_edge_index, edge_weight_dict)"
   ],
   "id": "3482204b0f2c8be",
   "outputs": [],
   "execution_count": 61
  },
  {
   "metadata": {
    "ExecuteTime": {
     "end_time": "2024-05-26T20:54:31.915253Z",
     "start_time": "2024-05-26T20:54:30.483485Z"
    }
   },
   "cell_type": "code",
   "source": [
    "data.train_pos_edge_weight = train_edge_weights\n",
    "data.test_pos_edge_weight = test_edge_weights\n",
    "data.val_pos_edge_weight = val_edge_weights\n",
    "\n",
    "# Manually create negative edges for training\n",
    "neg_edge_index_train = negative_sampling(\n",
    "    edge_index=data.train_pos_edge_index,\n",
    "    num_nodes=data.num_nodes,\n",
    "    num_neg_samples=data.train_pos_edge_index.size(1),\n",
    ")\n",
    "data.train_neg_edge_index = neg_edge_index_train\n",
    "\n",
    "# Assign zero weights to negative edges for training\n",
    "neg_train_edge_weights = torch.zeros(neg_edge_index_train.size(1), dtype=torch.float)\n",
    "\n",
    "# Manually create negative edges for testing\n",
    "neg_edge_index_test = negative_sampling(\n",
    "    edge_index=data.test_pos_edge_index,\n",
    "    num_nodes=data.num_nodes,\n",
    "    num_neg_samples=data.test_pos_edge_index.size(1),\n",
    ")\n",
    "data.test_neg_edge_index = neg_edge_index_test\n",
    "\n",
    "# Assign zero weights to negative edges for testing\n",
    "neg_test_edge_weights = torch.zeros(neg_edge_index_test.size(1), dtype=torch.float)\n",
    "\n",
    "# Combine positive and negative edge weights for training\n",
    "data.train_neg_edge_weight = neg_train_edge_weights\n",
    "\n",
    "# Combine positive and negative edge weights for testing\n",
    "data.test_neg_edge_weight = neg_test_edge_weights\n",
    "\n",
    "# Ensure edge_index tensors are of integer type\n",
    "data.train_pos_edge_index = data.train_pos_edge_index.long()\n",
    "data.test_pos_edge_index = data.test_pos_edge_index.long()\n",
    "data.train_neg_edge_index = data.train_neg_edge_index.long()\n",
    "data.test_neg_edge_index = data.test_neg_edge_index.long()"
   ],
   "id": "91f230b61ba4cc8a",
   "outputs": [],
   "execution_count": 62
  },
  {
   "metadata": {
    "ExecuteTime": {
     "end_time": "2024-05-26T20:54:31.919823Z",
     "start_time": "2024-05-26T20:54:31.917258Z"
    }
   },
   "cell_type": "code",
   "source": [
    "# Define number of nodes\n",
    "num_nodes = data.num_nodes\n",
    "\n",
    "# Node2Vec parameters\n",
    "embedding_dim = 64\n",
    "walk_length = 20\n",
    "context_size = 10\n",
    "walks_per_node = 10\n",
    "batch_size = 128\n",
    "lr = 0.01\n",
    "num_epochs = 21"
   ],
   "id": "fba21fbb8d038909",
   "outputs": [],
   "execution_count": 63
  },
  {
   "metadata": {
    "ExecuteTime": {
     "end_time": "2024-05-26T20:54:31.954470Z",
     "start_time": "2024-05-26T20:54:31.920828Z"
    }
   },
   "cell_type": "code",
   "source": [
    "# Initialize Node2Vec\n",
    "node2vec = Node2Vec(\n",
    "    edge_index=original_edge_index,\n",
    "    embedding_dim=embedding_dim,\n",
    "    walk_length=walk_length,\n",
    "    context_size=context_size,\n",
    "    walks_per_node=walks_per_node,\n",
    "    num_negative_samples=1,\n",
    "    p=1,\n",
    "    q=1,\n",
    "    sparse=True,\n",
    "    num_nodes=num_nodes  # Specify number of nodes\n",
    ")\n",
    "\n",
    "# Move to the appropriate device (CPU/GPU)\n",
    "device = torch.device('cuda' if torch.cuda.is_available() else 'cpu')\n",
    "node2vec = node2vec.to(device)"
   ],
   "id": "6f325c1adced2d3c",
   "outputs": [],
   "execution_count": 64
  },
  {
   "metadata": {
    "ExecuteTime": {
     "end_time": "2024-05-26T20:54:31.958474Z",
     "start_time": "2024-05-26T20:54:31.955476Z"
    }
   },
   "cell_type": "code",
   "source": [
    "# Optimizer for Node2Vec\n",
    "optimizer = torch.optim.SparseAdam(node2vec.parameters(), lr=lr)"
   ],
   "id": "d2b1d3e64f0c57b7",
   "outputs": [],
   "execution_count": 65
  },
  {
   "metadata": {
    "ExecuteTime": {
     "end_time": "2024-05-26T20:54:31.964361Z",
     "start_time": "2024-05-26T20:54:31.959526Z"
    }
   },
   "cell_type": "code",
   "source": [
    "# Training loop for Node2Vec\n",
    "def train_node2vec(num_epochs):\n",
    "    node2vec.train()\n",
    "    for epoch in range(num_epochs):\n",
    "        total_loss = 0\n",
    "        loader = node2vec.loader(batch_size=batch_size, shuffle=True, num_workers=0)  # Set num_workers=0\n",
    "        for i, (pos_rw, neg_rw) in enumerate(loader):\n",
    "            optimizer.zero_grad()\n",
    "            loss = node2vec.loss(pos_rw.to(device), neg_rw.to(device))\n",
    "            loss.backward()\n",
    "            optimizer.step()\n",
    "            total_loss += loss.item()\n",
    "            if epoch % 10 == 0:\n",
    "                print(f'Epoch {epoch + 1}, Iteration {i}, Loss: {total_loss / 10}')\n",
    "                total_loss = 0"
   ],
   "id": "a4673e0d68813981",
   "outputs": [],
   "execution_count": 66
  },
  {
   "metadata": {
    "ExecuteTime": {
     "end_time": "2024-05-26T20:54:39.456611Z",
     "start_time": "2024-05-26T20:54:31.965369Z"
    }
   },
   "cell_type": "code",
   "source": [
    "# Train Node2Vec model\n",
    "train_node2vec(num_epochs)"
   ],
   "id": "36416a190e418fdb",
   "outputs": [
    {
     "name": "stdout",
     "output_type": "stream",
     "text": [
      "Epoch 1, Iteration 0, Loss: 0.3822084665298462\n",
      "Epoch 1, Iteration 1, Loss: 0.3814095497131348\n",
      "Epoch 1, Iteration 2, Loss: 0.37668566703796386\n",
      "Epoch 1, Iteration 3, Loss: 0.37039647102355955\n",
      "Epoch 1, Iteration 4, Loss: 0.37499632835388186\n",
      "Epoch 1, Iteration 5, Loss: 0.36944968700408937\n",
      "Epoch 1, Iteration 6, Loss: 0.37199788093566893\n",
      "Epoch 1, Iteration 7, Loss: 0.364693808555603\n",
      "Epoch 1, Iteration 8, Loss: 0.365826416015625\n",
      "Epoch 1, Iteration 9, Loss: 0.36258511543273925\n",
      "Epoch 1, Iteration 10, Loss: 0.3623929738998413\n",
      "Epoch 1, Iteration 11, Loss: 0.357783842086792\n",
      "Epoch 1, Iteration 12, Loss: 0.3590676307678223\n",
      "Epoch 1, Iteration 13, Loss: 0.35092010498046877\n",
      "Epoch 1, Iteration 14, Loss: 0.34906649589538574\n",
      "Epoch 1, Iteration 15, Loss: 0.3533889055252075\n",
      "Epoch 1, Iteration 16, Loss: 0.34712560176849366\n",
      "Epoch 1, Iteration 17, Loss: 0.34795753955841063\n",
      "Epoch 1, Iteration 18, Loss: 0.34754533767700196\n",
      "Epoch 1, Iteration 19, Loss: 0.34339475631713867\n",
      "Epoch 1, Iteration 20, Loss: 0.3390869379043579\n",
      "Epoch 1, Iteration 21, Loss: 0.3403472423553467\n",
      "Epoch 1, Iteration 22, Loss: 0.3371328353881836\n",
      "Epoch 1, Iteration 23, Loss: 0.33727521896362306\n",
      "Epoch 1, Iteration 24, Loss: 0.3330486059188843\n",
      "Epoch 1, Iteration 25, Loss: 0.332651424407959\n",
      "Epoch 1, Iteration 26, Loss: 0.333045506477356\n",
      "Epoch 1, Iteration 27, Loss: 0.3289708852767944\n",
      "Epoch 1, Iteration 28, Loss: 0.325907564163208\n",
      "Epoch 1, Iteration 29, Loss: 0.32328996658325193\n",
      "Epoch 1, Iteration 30, Loss: 0.3228206396102905\n",
      "Epoch 1, Iteration 31, Loss: 0.3211215496063232\n",
      "Epoch 1, Iteration 32, Loss: 0.3209052085876465\n",
      "Epoch 1, Iteration 33, Loss: 0.3140700340270996\n",
      "Epoch 1, Iteration 34, Loss: 0.31903777122497556\n",
      "Epoch 1, Iteration 35, Loss: 0.3131345272064209\n",
      "Epoch 1, Iteration 36, Loss: 0.3107016563415527\n",
      "Epoch 1, Iteration 37, Loss: 0.3090468406677246\n",
      "Epoch 1, Iteration 38, Loss: 0.3012769937515259\n",
      "Epoch 1, Iteration 39, Loss: 0.3048680067062378\n",
      "Epoch 1, Iteration 40, Loss: 0.3019146680831909\n",
      "Epoch 1, Iteration 41, Loss: 0.3015988826751709\n",
      "Epoch 1, Iteration 42, Loss: 0.30093533992767335\n",
      "Epoch 1, Iteration 43, Loss: 0.29750866889953614\n",
      "Epoch 1, Iteration 44, Loss: 0.3004606246948242\n",
      "Epoch 1, Iteration 45, Loss: 0.2952449083328247\n",
      "Epoch 1, Iteration 46, Loss: 0.29675557613372805\n",
      "Epoch 1, Iteration 47, Loss: 0.29177374839782716\n",
      "Epoch 1, Iteration 48, Loss: 0.28821916580200196\n",
      "Epoch 1, Iteration 49, Loss: 0.2883261442184448\n",
      "Epoch 1, Iteration 50, Loss: 0.2866551399230957\n",
      "Epoch 1, Iteration 51, Loss: 0.2815136432647705\n",
      "Epoch 1, Iteration 52, Loss: 0.2839049816131592\n",
      "Epoch 1, Iteration 53, Loss: 0.2822396755218506\n",
      "Epoch 1, Iteration 54, Loss: 0.27939977645874026\n",
      "Epoch 1, Iteration 55, Loss: 0.27601749897003175\n",
      "Epoch 1, Iteration 56, Loss: 0.27837133407592773\n",
      "Epoch 1, Iteration 57, Loss: 0.2794785976409912\n",
      "Epoch 1, Iteration 58, Loss: 0.2756328821182251\n",
      "Epoch 1, Iteration 59, Loss: 0.2749265193939209\n",
      "Epoch 1, Iteration 60, Loss: 0.2743315458297729\n",
      "Epoch 1, Iteration 61, Loss: 0.2704963207244873\n",
      "Epoch 1, Iteration 62, Loss: 0.2716021776199341\n",
      "Epoch 1, Iteration 63, Loss: 0.26642560958862305\n",
      "Epoch 1, Iteration 64, Loss: 0.26536762714385986\n",
      "Epoch 1, Iteration 65, Loss: 0.26601245403289797\n",
      "Epoch 1, Iteration 66, Loss: 0.26194422245025634\n",
      "Epoch 1, Iteration 67, Loss: 0.2638394832611084\n",
      "Epoch 1, Iteration 68, Loss: 0.26103944778442384\n",
      "Epoch 1, Iteration 69, Loss: 0.2602113723754883\n",
      "Epoch 1, Iteration 70, Loss: 0.25678839683532717\n",
      "Epoch 1, Iteration 71, Loss: 0.25707736015319826\n",
      "Epoch 1, Iteration 72, Loss: 0.2522952795028687\n",
      "Epoch 1, Iteration 73, Loss: 0.255915093421936\n",
      "Epoch 1, Iteration 74, Loss: 0.2562784910202026\n",
      "Epoch 1, Iteration 75, Loss: 0.25350425243377683\n",
      "Epoch 1, Iteration 76, Loss: 0.254338002204895\n",
      "Epoch 1, Iteration 77, Loss: 0.24993762969970704\n",
      "Epoch 1, Iteration 78, Loss: 0.24744853973388672\n",
      "Epoch 1, Iteration 79, Loss: 0.24856953620910643\n",
      "Epoch 1, Iteration 80, Loss: 0.2444899559020996\n",
      "Epoch 1, Iteration 81, Loss: 0.2438722848892212\n",
      "Epoch 1, Iteration 82, Loss: 0.24598236083984376\n",
      "Epoch 1, Iteration 83, Loss: 0.24112391471862793\n",
      "Epoch 1, Iteration 84, Loss: 0.24131698608398439\n",
      "Epoch 1, Iteration 85, Loss: 0.23969535827636718\n",
      "Epoch 1, Iteration 86, Loss: 0.2384817361831665\n",
      "Epoch 1, Iteration 87, Loss: 0.23588988780975342\n",
      "Epoch 1, Iteration 88, Loss: 0.23371031284332275\n",
      "Epoch 1, Iteration 89, Loss: 0.23352532386779784\n",
      "Epoch 11, Iteration 0, Loss: 0.07510173916816712\n",
      "Epoch 11, Iteration 1, Loss: 0.07501503825187683\n",
      "Epoch 11, Iteration 2, Loss: 0.07478792667388916\n",
      "Epoch 11, Iteration 3, Loss: 0.07495859265327454\n",
      "Epoch 11, Iteration 4, Loss: 0.07515746355056763\n",
      "Epoch 11, Iteration 5, Loss: 0.07525087594985962\n",
      "Epoch 11, Iteration 6, Loss: 0.07478021383285523\n",
      "Epoch 11, Iteration 7, Loss: 0.07472831010818481\n",
      "Epoch 11, Iteration 8, Loss: 0.0750219464302063\n",
      "Epoch 11, Iteration 9, Loss: 0.07495953440666199\n",
      "Epoch 11, Iteration 10, Loss: 0.07487116456031799\n",
      "Epoch 11, Iteration 11, Loss: 0.07454348206520081\n",
      "Epoch 11, Iteration 12, Loss: 0.07481847405433655\n",
      "Epoch 11, Iteration 13, Loss: 0.0744213581085205\n",
      "Epoch 11, Iteration 14, Loss: 0.07502134442329407\n",
      "Epoch 11, Iteration 15, Loss: 0.07486022114753724\n",
      "Epoch 11, Iteration 16, Loss: 0.07498078942298889\n",
      "Epoch 11, Iteration 17, Loss: 0.07478856444358825\n",
      "Epoch 11, Iteration 18, Loss: 0.07439433336257935\n",
      "Epoch 11, Iteration 19, Loss: 0.07462173700332642\n",
      "Epoch 11, Iteration 20, Loss: 0.0748361349105835\n",
      "Epoch 11, Iteration 21, Loss: 0.07448340654373169\n",
      "Epoch 11, Iteration 22, Loss: 0.07488032579421997\n",
      "Epoch 11, Iteration 23, Loss: 0.0750122308731079\n",
      "Epoch 11, Iteration 24, Loss: 0.07491133213043213\n",
      "Epoch 11, Iteration 25, Loss: 0.07497835159301758\n",
      "Epoch 11, Iteration 26, Loss: 0.07462701201438904\n",
      "Epoch 11, Iteration 27, Loss: 0.07474249005317687\n",
      "Epoch 11, Iteration 28, Loss: 0.07493998408317566\n",
      "Epoch 11, Iteration 29, Loss: 0.0744306743144989\n",
      "Epoch 11, Iteration 30, Loss: 0.07467618584632874\n",
      "Epoch 11, Iteration 31, Loss: 0.07478408217430114\n",
      "Epoch 11, Iteration 32, Loss: 0.07474912405014038\n",
      "Epoch 11, Iteration 33, Loss: 0.07506023049354553\n",
      "Epoch 11, Iteration 34, Loss: 0.07478322982788085\n",
      "Epoch 11, Iteration 35, Loss: 0.07482953071594238\n",
      "Epoch 11, Iteration 36, Loss: 0.0748295545578003\n",
      "Epoch 11, Iteration 37, Loss: 0.07496635317802429\n",
      "Epoch 11, Iteration 38, Loss: 0.07485865950584411\n",
      "Epoch 11, Iteration 39, Loss: 0.07487784624099732\n",
      "Epoch 11, Iteration 40, Loss: 0.07511434555053711\n",
      "Epoch 11, Iteration 41, Loss: 0.07482840418815613\n",
      "Epoch 11, Iteration 42, Loss: 0.07479960322380066\n",
      "Epoch 11, Iteration 43, Loss: 0.07511558532714843\n",
      "Epoch 11, Iteration 44, Loss: 0.07502080202102661\n",
      "Epoch 11, Iteration 45, Loss: 0.07463686466217041\n",
      "Epoch 11, Iteration 46, Loss: 0.07476960420608521\n",
      "Epoch 11, Iteration 47, Loss: 0.07495046257972718\n",
      "Epoch 11, Iteration 48, Loss: 0.07454510927200317\n",
      "Epoch 11, Iteration 49, Loss: 0.07489833235740662\n",
      "Epoch 11, Iteration 50, Loss: 0.07473852634429931\n",
      "Epoch 11, Iteration 51, Loss: 0.0748966634273529\n",
      "Epoch 11, Iteration 52, Loss: 0.07441297173500061\n",
      "Epoch 11, Iteration 53, Loss: 0.07449865341186523\n",
      "Epoch 11, Iteration 54, Loss: 0.0748568058013916\n",
      "Epoch 11, Iteration 55, Loss: 0.07525047659873962\n",
      "Epoch 11, Iteration 56, Loss: 0.07456207275390625\n",
      "Epoch 11, Iteration 57, Loss: 0.07495249509811401\n",
      "Epoch 11, Iteration 58, Loss: 0.07506082653999328\n",
      "Epoch 11, Iteration 59, Loss: 0.07473894357681274\n",
      "Epoch 11, Iteration 60, Loss: 0.0748082935810089\n",
      "Epoch 11, Iteration 61, Loss: 0.07463794946670532\n",
      "Epoch 11, Iteration 62, Loss: 0.0748599886894226\n",
      "Epoch 11, Iteration 63, Loss: 0.0745348334312439\n",
      "Epoch 11, Iteration 64, Loss: 0.07495814561843872\n",
      "Epoch 11, Iteration 65, Loss: 0.07507110834121704\n",
      "Epoch 11, Iteration 66, Loss: 0.07445051670074462\n",
      "Epoch 11, Iteration 67, Loss: 0.07444358468055726\n",
      "Epoch 11, Iteration 68, Loss: 0.07462183237075806\n",
      "Epoch 11, Iteration 69, Loss: 0.07464912533760071\n",
      "Epoch 11, Iteration 70, Loss: 0.07490917444229125\n",
      "Epoch 11, Iteration 71, Loss: 0.07457876801490784\n",
      "Epoch 11, Iteration 72, Loss: 0.07486538887023926\n",
      "Epoch 11, Iteration 73, Loss: 0.07461848258972167\n",
      "Epoch 11, Iteration 74, Loss: 0.07469770908355713\n",
      "Epoch 11, Iteration 75, Loss: 0.0746609628200531\n",
      "Epoch 11, Iteration 76, Loss: 0.07449369430541992\n",
      "Epoch 11, Iteration 77, Loss: 0.07479665279388428\n",
      "Epoch 11, Iteration 78, Loss: 0.07494840025901794\n",
      "Epoch 11, Iteration 79, Loss: 0.0746978759765625\n",
      "Epoch 11, Iteration 80, Loss: 0.0748161494731903\n",
      "Epoch 11, Iteration 81, Loss: 0.07471056580543518\n",
      "Epoch 11, Iteration 82, Loss: 0.07523682713508606\n",
      "Epoch 11, Iteration 83, Loss: 0.07468419075012207\n",
      "Epoch 11, Iteration 84, Loss: 0.074848872423172\n",
      "Epoch 11, Iteration 85, Loss: 0.07481544613838195\n",
      "Epoch 11, Iteration 86, Loss: 0.07462365627288818\n",
      "Epoch 11, Iteration 87, Loss: 0.07450929880142212\n",
      "Epoch 11, Iteration 88, Loss: 0.07461445927619934\n",
      "Epoch 11, Iteration 89, Loss: 0.07485076785087585\n",
      "Epoch 21, Iteration 0, Loss: 0.07270544767379761\n",
      "Epoch 21, Iteration 1, Loss: 0.07265361547470092\n",
      "Epoch 21, Iteration 2, Loss: 0.07304690480232238\n",
      "Epoch 21, Iteration 3, Loss: 0.0726371943950653\n",
      "Epoch 21, Iteration 4, Loss: 0.07260211110115052\n",
      "Epoch 21, Iteration 5, Loss: 0.07270130515098572\n",
      "Epoch 21, Iteration 6, Loss: 0.07272039651870728\n",
      "Epoch 21, Iteration 7, Loss: 0.0727870523929596\n",
      "Epoch 21, Iteration 8, Loss: 0.07295430898666382\n",
      "Epoch 21, Iteration 9, Loss: 0.07269155383110046\n",
      "Epoch 21, Iteration 10, Loss: 0.07289307117462158\n",
      "Epoch 21, Iteration 11, Loss: 0.07299500703811646\n",
      "Epoch 21, Iteration 12, Loss: 0.07299904227256775\n",
      "Epoch 21, Iteration 13, Loss: 0.07270306944847107\n",
      "Epoch 21, Iteration 14, Loss: 0.07293984889984131\n",
      "Epoch 21, Iteration 15, Loss: 0.07289723157882691\n",
      "Epoch 21, Iteration 16, Loss: 0.07288310527801514\n",
      "Epoch 21, Iteration 17, Loss: 0.07254360318183899\n",
      "Epoch 21, Iteration 18, Loss: 0.07305110692977905\n",
      "Epoch 21, Iteration 19, Loss: 0.07273239493370057\n",
      "Epoch 21, Iteration 20, Loss: 0.07269107103347779\n",
      "Epoch 21, Iteration 21, Loss: 0.07308570742607116\n",
      "Epoch 21, Iteration 22, Loss: 0.07275307774543763\n",
      "Epoch 21, Iteration 23, Loss: 0.07242369055747985\n",
      "Epoch 21, Iteration 24, Loss: 0.07259994149208068\n",
      "Epoch 21, Iteration 25, Loss: 0.072758948802948\n",
      "Epoch 21, Iteration 26, Loss: 0.07262303233146668\n",
      "Epoch 21, Iteration 27, Loss: 0.0728696882724762\n",
      "Epoch 21, Iteration 28, Loss: 0.07279437780380249\n",
      "Epoch 21, Iteration 29, Loss: 0.0730233907699585\n",
      "Epoch 21, Iteration 30, Loss: 0.07275294065475464\n",
      "Epoch 21, Iteration 31, Loss: 0.07291068434715271\n",
      "Epoch 21, Iteration 32, Loss: 0.0727993905544281\n",
      "Epoch 21, Iteration 33, Loss: 0.07258277535438537\n",
      "Epoch 21, Iteration 34, Loss: 0.07282167077064514\n",
      "Epoch 21, Iteration 35, Loss: 0.07274283170700073\n",
      "Epoch 21, Iteration 36, Loss: 0.07293091416358947\n",
      "Epoch 21, Iteration 37, Loss: 0.07273706197738647\n",
      "Epoch 21, Iteration 38, Loss: 0.07265080213546753\n",
      "Epoch 21, Iteration 39, Loss: 0.07293476462364197\n",
      "Epoch 21, Iteration 40, Loss: 0.07282164692878723\n",
      "Epoch 21, Iteration 41, Loss: 0.07278492450714111\n",
      "Epoch 21, Iteration 42, Loss: 0.0731261909008026\n",
      "Epoch 21, Iteration 43, Loss: 0.07270464897155762\n",
      "Epoch 21, Iteration 44, Loss: 0.07286377549171448\n",
      "Epoch 21, Iteration 45, Loss: 0.07315554022789002\n",
      "Epoch 21, Iteration 46, Loss: 0.0730089783668518\n",
      "Epoch 21, Iteration 47, Loss: 0.07284500002861023\n",
      "Epoch 21, Iteration 48, Loss: 0.07270618081092835\n",
      "Epoch 21, Iteration 49, Loss: 0.07306037545204162\n",
      "Epoch 21, Iteration 50, Loss: 0.07308343648910523\n",
      "Epoch 21, Iteration 51, Loss: 0.07320162057876586\n",
      "Epoch 21, Iteration 52, Loss: 0.07289869785308838\n",
      "Epoch 21, Iteration 53, Loss: 0.07276647686958312\n",
      "Epoch 21, Iteration 54, Loss: 0.07300156950950623\n",
      "Epoch 21, Iteration 55, Loss: 0.07280972599983215\n",
      "Epoch 21, Iteration 56, Loss: 0.07288616895675659\n",
      "Epoch 21, Iteration 57, Loss: 0.07317644953727723\n",
      "Epoch 21, Iteration 58, Loss: 0.07313874959945679\n",
      "Epoch 21, Iteration 59, Loss: 0.07284471392631531\n",
      "Epoch 21, Iteration 60, Loss: 0.07317963838577271\n",
      "Epoch 21, Iteration 61, Loss: 0.0731817603111267\n",
      "Epoch 21, Iteration 62, Loss: 0.07340245842933654\n",
      "Epoch 21, Iteration 63, Loss: 0.0730516791343689\n",
      "Epoch 21, Iteration 64, Loss: 0.0729740560054779\n",
      "Epoch 21, Iteration 65, Loss: 0.07280731797218323\n",
      "Epoch 21, Iteration 66, Loss: 0.07266314625740052\n",
      "Epoch 21, Iteration 67, Loss: 0.07311367392539977\n",
      "Epoch 21, Iteration 68, Loss: 0.07269391417503357\n",
      "Epoch 21, Iteration 69, Loss: 0.0731346845626831\n",
      "Epoch 21, Iteration 70, Loss: 0.07315980792045593\n",
      "Epoch 21, Iteration 71, Loss: 0.0730584442615509\n",
      "Epoch 21, Iteration 72, Loss: 0.07296624779701233\n",
      "Epoch 21, Iteration 73, Loss: 0.07310041785240173\n",
      "Epoch 21, Iteration 74, Loss: 0.07313147187232971\n",
      "Epoch 21, Iteration 75, Loss: 0.07281591296195984\n",
      "Epoch 21, Iteration 76, Loss: 0.07296199202537537\n",
      "Epoch 21, Iteration 77, Loss: 0.07309078574180602\n",
      "Epoch 21, Iteration 78, Loss: 0.07288050651550293\n",
      "Epoch 21, Iteration 79, Loss: 0.07319486141204834\n",
      "Epoch 21, Iteration 80, Loss: 0.07281937003135681\n",
      "Epoch 21, Iteration 81, Loss: 0.07313157916069031\n",
      "Epoch 21, Iteration 82, Loss: 0.07326276302337646\n",
      "Epoch 21, Iteration 83, Loss: 0.07304827570915222\n",
      "Epoch 21, Iteration 84, Loss: 0.07314143180847169\n",
      "Epoch 21, Iteration 85, Loss: 0.07319653630256653\n",
      "Epoch 21, Iteration 86, Loss: 0.07311902046203614\n",
      "Epoch 21, Iteration 87, Loss: 0.07299209833145141\n",
      "Epoch 21, Iteration 88, Loss: 0.07314871549606324\n",
      "Epoch 21, Iteration 89, Loss: 0.07271851897239685\n"
     ]
    }
   ],
   "execution_count": 67
  },
  {
   "metadata": {
    "ExecuteTime": {
     "end_time": "2024-05-26T20:54:39.461595Z",
     "start_time": "2024-05-26T20:54:39.457629Z"
    }
   },
   "cell_type": "code",
   "source": [
    "# Extract embeddings\n",
    "node_embeddings = node2vec.embedding.weight.data.cpu().numpy()\n",
    "\n",
    "# Update node features with embeddings\n",
    "data.x = torch.tensor(node_embeddings, dtype=torch.float)"
   ],
   "id": "4f2994a9c90aef5c",
   "outputs": [],
   "execution_count": 68
  },
  {
   "metadata": {
    "ExecuteTime": {
     "end_time": "2024-05-26T20:54:39.469105Z",
     "start_time": "2024-05-26T20:54:39.461595Z"
    }
   },
   "cell_type": "code",
   "source": [
    "class GAE(torch.nn.Module):\n",
    "    def __init__(self, in_channels, out_channels):\n",
    "        super(GAE, self).__init__()\n",
    "        self.conv1 = GCNConv(in_channels, 2 * out_channels)\n",
    "        self.conv2 = GCNConv(2 * out_channels, out_channels)\n",
    "\n",
    "    def encode(self, x, edge_index, edge_weight):\n",
    "        x = F.relu(self.conv1(x, edge_index, edge_weight))\n",
    "        return self.conv2(x, edge_index, edge_weight)\n",
    "\n",
    "    def decode(self, z, pos_edge_index, neg_edge_index):\n",
    "        pos_pred = (z[pos_edge_index[0].long()] * z[pos_edge_index[1].long()]).sum(dim=1)\n",
    "        neg_pred = (z[neg_edge_index[0].long()] * z[neg_edge_index[1].long()]).sum(dim=1)\n",
    "        return pos_pred, neg_pred\n",
    "\n",
    "    def forward(self, data):\n",
    "        z = self.encode(data.x, data.train_pos_edge_index, data.train_pos_edge_weight)\n",
    "        return z"
   ],
   "id": "280a1a320e603e0a",
   "outputs": [],
   "execution_count": 69
  },
  {
   "metadata": {
    "ExecuteTime": {
     "end_time": "2024-05-26T20:54:44.477768Z",
     "start_time": "2024-05-26T20:54:44.472976Z"
    }
   },
   "cell_type": "code",
   "source": [
    "# Initialize and train GAE model as before\n",
    "model = GAE(data.num_node_features, 16)  # Adjust dimensions as needed\n",
    "gae_optimizer = torch.optim.Adam(model.parameters(), lr=0.001)\n",
    "loss_fn = torch.nn.BCEWithLogitsLoss()"
   ],
   "id": "d9923f5f9b0fdb86",
   "outputs": [],
   "execution_count": 70
  },
  {
   "metadata": {
    "ExecuteTime": {
     "end_time": "2024-05-26T20:54:45.038456Z",
     "start_time": "2024-05-26T20:54:45.034457Z"
    }
   },
   "cell_type": "code",
   "source": [
    "def train(data):\n",
    "    model.train()\n",
    "    gae_optimizer.zero_grad()\n",
    "    z = model.encode(data.x, data.train_pos_edge_index, data.train_pos_edge_weight)  # Pass train_pos_edge_weight\n",
    "    pos_pred, neg_pred = model.decode(z, data.train_pos_edge_index, data.train_neg_edge_index)\n",
    "    pos_loss = loss_fn(pos_pred, torch.ones_like(pos_pred))\n",
    "    neg_loss = loss_fn(neg_pred, torch.zeros_like(neg_pred))\n",
    "    loss = pos_loss + neg_loss\n",
    "    if torch.isnan(loss) or torch.isinf(loss):\n",
    "        print(\"Warning: NaN or Inf loss detected\")\n",
    "        return float('inf')\n",
    "    loss.backward()\n",
    "    gae_optimizer.step()\n",
    "    return loss.item()"
   ],
   "id": "d59e18cf369aff0b",
   "outputs": [],
   "execution_count": 71
  },
  {
   "metadata": {
    "ExecuteTime": {
     "end_time": "2024-05-26T20:55:39.559603Z",
     "start_time": "2024-05-26T20:54:45.444246Z"
    }
   },
   "cell_type": "code",
   "source": [
    "for epoch in range(100):\n",
    "    loss = train(data)\n",
    "    if loss == float('inf'):\n",
    "        break\n",
    "    if epoch % 10 == 0:\n",
    "        print(f'Epoch {epoch}, Loss: {loss}')"
   ],
   "id": "819793948be2b1e8",
   "outputs": [
    {
     "name": "stdout",
     "output_type": "stream",
     "text": [
      "Epoch 0, Loss: 3.341568946838379\n",
      "Epoch 10, Loss: 1.7521438598632812\n",
      "Epoch 20, Loss: 1.3434333801269531\n",
      "Epoch 30, Loss: 1.2498263120651245\n",
      "Epoch 40, Loss: 1.2117993831634521\n",
      "Epoch 50, Loss: 1.1875545978546143\n",
      "Epoch 60, Loss: 1.1706467866897583\n",
      "Epoch 70, Loss: 1.1580443382263184\n",
      "Epoch 80, Loss: 1.1483867168426514\n",
      "Epoch 90, Loss: 1.1406351327896118\n"
     ]
    }
   ],
   "execution_count": 72
  },
  {
   "metadata": {
    "ExecuteTime": {
     "end_time": "2024-05-26T20:55:53.328514Z",
     "start_time": "2024-05-26T20:55:53.322496Z"
    }
   },
   "cell_type": "code",
   "source": [
    "def precision_at_k(y_true, y_pred, k):\n",
    "    idx = np.argsort(y_pred)[::-1][:k]\n",
    "    y_pred_binary = np.zeros_like(y_pred)\n",
    "    y_pred_binary[idx] = 1\n",
    "    tp = np.sum(y_true * y_pred_binary)\n",
    "    precision = tp / k\n",
    "    return precision\n",
    "\n",
    "def recall_at_k(y_true, y_pred, k):\n",
    "    idx = np.argsort(y_pred)[::-1][:k]\n",
    "    y_pred_binary = np.zeros_like(y_pred)\n",
    "    y_pred_binary[idx] = 1\n",
    "    tp = np.sum(y_true * y_pred_binary)\n",
    "    recall = tp / np.sum(y_true)\n",
    "    return recall\n",
    "\n",
    "def average_precision(y_true, y_pred):\n",
    "    idx = np.argsort(y_pred)[::-1]\n",
    "    y_true_sorted = y_true[idx]\n",
    "    tp = np.cumsum(y_true_sorted)\n",
    "    precision = tp / (np.arange(len(y_true_sorted)) + 1)\n",
    "    avg_precision = np.sum(precision * y_true_sorted) / np.sum(y_true_sorted)\n",
    "    return avg_precision\n",
    "\n",
    "def mean_average_precision(y_true, y_pred):\n",
    "    return np.mean([average_precision(y_t, y_p) for y_t, y_p in zip(y_true, y_pred)])\n",
    "\n",
    "def dcg_score(y_true, y_pred, k):\n",
    "    order = np.argsort(y_pred)[::-1]\n",
    "    y_true_sorted = np.take(y_true, order[:k])\n",
    "    gain = 2 ** y_true_sorted - 1\n",
    "    discounts = np.log2(np.arange(len(y_true_sorted)) + 2)\n",
    "    return np.sum(gain / discounts)\n",
    "\n",
    "def ndcg_score(y_true, y_pred, k):\n",
    "    best = dcg_score(y_true, y_true, k)\n",
    "    actual = dcg_score(y_true, y_pred, k)\n",
    "    return actual / best"
   ],
   "id": "6d8004ed44dd947a",
   "outputs": [],
   "execution_count": 73
  },
  {
   "metadata": {
    "ExecuteTime": {
     "end_time": "2024-05-26T20:55:54.073799Z",
     "start_time": "2024-05-26T20:55:54.069079Z"
    }
   },
   "cell_type": "code",
   "source": [
    "def evaluate_model(data, model, k):\n",
    "    model.eval()\n",
    "    with torch.no_grad():\n",
    "        z = model.encode(data.x, data.val_pos_edge_index, data.val_pos_edge_weight)\n",
    "        pos_pred = torch.sigmoid((z[data.val_pos_edge_index[0].long()] * z[data.val_pos_edge_index[1].long()]).sum(dim=1)).cpu().numpy()\n",
    "        neg_pred = torch.sigmoid((z[data.val_neg_edge_index[0].long()] * z[data.val_neg_edge_index[1].long()]).sum(dim=1)).cpu().numpy()\n",
    "\n",
    "    y_true = np.concatenate([np.ones(pos_pred.shape[0]), np.zeros(neg_pred.shape[0])])\n",
    "    y_pred = np.concatenate([pos_pred, neg_pred])\n",
    "\n",
    "    auc_roc = roc_auc_score(y_true, y_pred)\n",
    "    ap = average_precision_score(y_true, y_pred)\n",
    "\n",
    "    precision = precision_at_k(y_true, y_pred, k)\n",
    "    recall = recall_at_k(y_true, y_pred, k)\n",
    "    map_score = mean_average_precision([y_true], [y_pred])\n",
    "    ndcg = ndcg_score(y_true, y_pred, k)\n",
    "\n",
    "    return auc_roc, ap, precision, recall, map_score, ndcg"
   ],
   "id": "dd65d2d7892ba243",
   "outputs": [],
   "execution_count": 74
  },
  {
   "metadata": {
    "ExecuteTime": {
     "end_time": "2024-05-26T20:55:55.641158Z",
     "start_time": "2024-05-26T20:55:55.638177Z"
    }
   },
   "cell_type": "code",
   "source": "k=10",
   "id": "a6ac9fd7abb81a9d",
   "outputs": [],
   "execution_count": 75
  },
  {
   "metadata": {
    "ExecuteTime": {
     "end_time": "2024-05-26T20:55:56.283326Z",
     "start_time": "2024-05-26T20:55:56.139025Z"
    }
   },
   "cell_type": "code",
   "source": [
    "# Example usage\n",
    "auc_roc, ap, k_prec, recall, map_score, ndcg = evaluate_model(data, model, k)\n",
    "print(f\"AUC-ROC: {auc_roc:.4f}, AP: {ap:.4f}\")\n",
    "print(f\"Precision@{k}: {k_prec:.4f}\")\n",
    "print(f\"Recall@{k}: {recall:.4f}\")\n",
    "print(f\"MAP: {map_score:.4f}\")\n",
    "print(f\"NDCG@{k}: {ndcg:.4f}\")"
   ],
   "id": "37b2a03df1f5ce83",
   "outputs": [
    {
     "name": "stdout",
     "output_type": "stream",
     "text": [
      "AUC-ROC: 0.9068, AP: 0.9071\n",
      "Precision@10: 0.0000\n",
      "Recall@10: 0.0000\n",
      "MAP: 0.9071\n",
      "NDCG@10: 0.0000\n"
     ]
    }
   ],
   "execution_count": 76
  },
  {
   "metadata": {
    "ExecuteTime": {
     "end_time": "2024-05-26T20:55:58.085901Z",
     "start_time": "2024-05-26T20:55:58.080380Z"
    }
   },
   "cell_type": "code",
   "source": [
    "def predict_best_candidates(job_descriptions, resumes, z, k=1):\n",
    "    job_ids = job_descriptions['job_id'].values\n",
    "    candidate_ids = resumes['candidate_id'].values + len(job_descriptions)\n",
    "\n",
    "    job_indices = job_ids - 1\n",
    "    candidate_indices = candidate_ids - 1\n",
    "\n",
    "    job_embeddings = z[job_indices]\n",
    "    candidate_embeddings = z[candidate_indices]\n",
    "\n",
    "    # Calculate scores using matrix multiplication\n",
    "    scores = torch.sigmoid(torch.matmul(job_embeddings, candidate_embeddings.T)).cpu().numpy()\n",
    "\n",
    "    predictions = []\n",
    "    for i, job_id in enumerate(job_ids):\n",
    "        best_match_indices = scores[i].argsort()[::-1][:k]\n",
    "        for idx in best_match_indices:\n",
    "            candidate_id = resumes.iloc[idx]['candidate_id']\n",
    "            candidate_job_title = resumes.iloc[idx]['job_title']\n",
    "            category = resumes.iloc[idx]['category']\n",
    "            skills = resumes.iloc[idx]['skills']\n",
    "            job_title = job_descriptions.iloc[i]['job_title']\n",
    "            job_skills = job_descriptions.iloc[i]['skills']\n",
    "            score = scores[i][idx]\n",
    "\n",
    "            match_percentage = score * 100  # Assuming the score is between 0 and 1\n",
    "            predictions.append({\n",
    "                \"Job ID\": job_id,\n",
    "                \"Job Title\": le_job_title.inverse_transform([job_title])[0],\n",
    "                \"Candidate ID\": candidate_id,\n",
    "                \"Candidate Job Title\": le_job_title.inverse_transform([candidate_job_title])[0],\n",
    "                \"Candidate Category\": le_category.inverse_transform([category])[0],\n",
    "                \"Match Percentage\": match_percentage,\n",
    "                \"Mutual Skills\": set(job_skills).intersection(set(skills)),\n",
    "                \"Job Skills\": job_skills,\n",
    "                \"Candidate Skills\": skills\n",
    "            })\n",
    "\n",
    "    predictions_df = pd.DataFrame(predictions)\n",
    "    return predictions_df"
   ],
   "id": "a2bdfd90257c0b6f",
   "outputs": [],
   "execution_count": 77
  },
  {
   "metadata": {
    "ExecuteTime": {
     "end_time": "2024-05-26T20:55:58.644778Z",
     "start_time": "2024-05-26T20:55:58.625270Z"
    }
   },
   "cell_type": "code",
   "source": [
    "# Example usage\n",
    "with torch.no_grad():\n",
    "    z = model.encode(data.x, data.test_pos_edge_index, data.test_pos_edge_weight)"
   ],
   "id": "455e4c57053c84e",
   "outputs": [],
   "execution_count": 78
  },
  {
   "metadata": {
    "ExecuteTime": {
     "end_time": "2024-05-26T20:55:59.012459Z",
     "start_time": "2024-05-26T20:55:59.008018Z"
    }
   },
   "cell_type": "code",
   "source": "jobs_to_predict = job_descriptions[job_descriptions['job_title'].isin(resumes['job_title'])].sample(frac=1, random_state=random_seed)",
   "id": "fed5a321cb5ba810",
   "outputs": [],
   "execution_count": 79
  },
  {
   "metadata": {
    "ExecuteTime": {
     "end_time": "2024-05-26T20:56:03.696543Z",
     "start_time": "2024-05-26T20:55:59.524421Z"
    }
   },
   "cell_type": "code",
   "source": [
    "predictions_df = predict_best_candidates(job_descriptions, resumes, z)\n",
    "predictions_df = predictions_df[predictions_df['Mutual Skills'].map(len) != 0]\n",
    "predictions_df['Mutual Skills Count'] = predictions_df['Mutual Skills'].map(len)\n",
    "ind = predictions_df['Mutual Skills'].map(len).sort_values(ascending=False).index\n",
    "predictions_df = predictions_df.reindex(ind)"
   ],
   "id": "7a2ba7424bc80603",
   "outputs": [],
   "execution_count": 80
  },
  {
   "metadata": {
    "ExecuteTime": {
     "end_time": "2024-05-26T20:56:03.707923Z",
     "start_time": "2024-05-26T20:56:03.698058Z"
    }
   },
   "cell_type": "code",
   "source": "predictions_df.head(10000)",
   "id": "1930b82d20689a44",
   "outputs": [
    {
     "data": {
      "text/plain": [
       "      Job ID              Job Title  Candidate ID  \\\n",
       "1697    1698  marketing coordinator           545   \n",
       "4997    4998     marketing director           176   \n",
       "1628    1629       purchasing agent           431   \n",
       "2949    2950     nurse practitioner           417   \n",
       "2947    2948  it support specialist           907   \n",
       "...      ...                    ...           ...   \n",
       "3053    3054     marketing director           637   \n",
       "3074    3075   social media manager           837   \n",
       "3078    3079    project coordinator           471   \n",
       "3121    3122     marketing director          1149   \n",
       "9985    9986        sales associate           959   \n",
       "\n",
       "                        Candidate Job Title    Candidate Category  \\\n",
       "1697                  director of community                  arts   \n",
       "4997                                     vp      public-relations   \n",
       "1628                     finance controller               finance   \n",
       "2949  occupational health nurse coordinator            healthcare   \n",
       "2947                       staff accountant            accountant   \n",
       "...                                     ...                   ...   \n",
       "3053           business development manager  business-development   \n",
       "3074                             vp finance               finance   \n",
       "3078               business development rep  business-development   \n",
       "3121                     creative assistant                  arts   \n",
       "9985                                teacher               teacher   \n",
       "\n",
       "      Match Percentage                                      Mutual Skills  \\\n",
       "1697         81.278962  {marketing strategy, social medium, email mark...   \n",
       "4997         86.839312  {crisis management, medium relation, public re...   \n",
       "1628         78.100234                      {supply chain, problem solve}   \n",
       "2949         70.763117                 {patient assessment, nursing care}   \n",
       "2947         74.595946                  {customer service, problem solve}   \n",
       "...                ...                                                ...   \n",
       "3053         70.636231                                 {brand management}   \n",
       "3074         74.925274                                    {social medium}   \n",
       "3078         63.139862                                  {time management}   \n",
       "3121         84.692597                                  {public relation}   \n",
       "9985         84.037304                                 {customer service}   \n",
       "\n",
       "                                             Job Skills  \\\n",
       "1697  {management system, SEO, social medium, email ...   \n",
       "4997  {crisis management, content strategy, medium r...   \n",
       "1628  {inventory management, supply chain, problem s...   \n",
       "2949  {patient assessment, nursing care, health prom...   \n",
       "2947  {customer service, critical thinking, problem ...   \n",
       "...                                                 ...   \n",
       "3053  {brand management, market research, brand stra...   \n",
       "3074  {social medium, social medium advertising, soc...   \n",
       "3078  {time management, organizational skill, micros...   \n",
       "3121  {crisis management, content strategy, medium r...   \n",
       "9985                                 {customer service}   \n",
       "\n",
       "                                       Candidate Skills  Mutual Skills Count  \n",
       "1697  {graphic design, community education, marketin...                    3  \n",
       "4997  {crisis communication, microsoft outlook, arti...                    3  \n",
       "1628  {system integration, cash flow, complex proble...                    2  \n",
       "2949  {office management, incident report, quality a...                    2  \n",
       "2947  {account payable, quality assurance, cash flow...                    2  \n",
       "...                                                 ...                  ...  \n",
       "3053  {product line, market share, corporate finance...                    1  \n",
       "3074  {strategic alliance, white paper, risk managem...                    1  \n",
       "3078  {twitter ad, value proposition, e commerce, in...                    1  \n",
       "3121  {storage system, scientific reasoning, contrac...                    1  \n",
       "9985  {dual language, service management, vocal musi...                    1  \n",
       "\n",
       "[754 rows x 10 columns]"
      ],
      "text/html": [
       "<div>\n",
       "<style scoped>\n",
       "    .dataframe tbody tr th:only-of-type {\n",
       "        vertical-align: middle;\n",
       "    }\n",
       "\n",
       "    .dataframe tbody tr th {\n",
       "        vertical-align: top;\n",
       "    }\n",
       "\n",
       "    .dataframe thead th {\n",
       "        text-align: right;\n",
       "    }\n",
       "</style>\n",
       "<table border=\"1\" class=\"dataframe\">\n",
       "  <thead>\n",
       "    <tr style=\"text-align: right;\">\n",
       "      <th></th>\n",
       "      <th>Job ID</th>\n",
       "      <th>Job Title</th>\n",
       "      <th>Candidate ID</th>\n",
       "      <th>Candidate Job Title</th>\n",
       "      <th>Candidate Category</th>\n",
       "      <th>Match Percentage</th>\n",
       "      <th>Mutual Skills</th>\n",
       "      <th>Job Skills</th>\n",
       "      <th>Candidate Skills</th>\n",
       "      <th>Mutual Skills Count</th>\n",
       "    </tr>\n",
       "  </thead>\n",
       "  <tbody>\n",
       "    <tr>\n",
       "      <th>1697</th>\n",
       "      <td>1698</td>\n",
       "      <td>marketing coordinator</td>\n",
       "      <td>545</td>\n",
       "      <td>director of community</td>\n",
       "      <td>arts</td>\n",
       "      <td>81.278962</td>\n",
       "      <td>{marketing strategy, social medium, email mark...</td>\n",
       "      <td>{management system, SEO, social medium, email ...</td>\n",
       "      <td>{graphic design, community education, marketin...</td>\n",
       "      <td>3</td>\n",
       "    </tr>\n",
       "    <tr>\n",
       "      <th>4997</th>\n",
       "      <td>4998</td>\n",
       "      <td>marketing director</td>\n",
       "      <td>176</td>\n",
       "      <td>vp</td>\n",
       "      <td>public-relations</td>\n",
       "      <td>86.839312</td>\n",
       "      <td>{crisis management, medium relation, public re...</td>\n",
       "      <td>{crisis management, content strategy, medium r...</td>\n",
       "      <td>{crisis communication, microsoft outlook, arti...</td>\n",
       "      <td>3</td>\n",
       "    </tr>\n",
       "    <tr>\n",
       "      <th>1628</th>\n",
       "      <td>1629</td>\n",
       "      <td>purchasing agent</td>\n",
       "      <td>431</td>\n",
       "      <td>finance controller</td>\n",
       "      <td>finance</td>\n",
       "      <td>78.100234</td>\n",
       "      <td>{supply chain, problem solve}</td>\n",
       "      <td>{inventory management, supply chain, problem s...</td>\n",
       "      <td>{system integration, cash flow, complex proble...</td>\n",
       "      <td>2</td>\n",
       "    </tr>\n",
       "    <tr>\n",
       "      <th>2949</th>\n",
       "      <td>2950</td>\n",
       "      <td>nurse practitioner</td>\n",
       "      <td>417</td>\n",
       "      <td>occupational health nurse coordinator</td>\n",
       "      <td>healthcare</td>\n",
       "      <td>70.763117</td>\n",
       "      <td>{patient assessment, nursing care}</td>\n",
       "      <td>{patient assessment, nursing care, health prom...</td>\n",
       "      <td>{office management, incident report, quality a...</td>\n",
       "      <td>2</td>\n",
       "    </tr>\n",
       "    <tr>\n",
       "      <th>2947</th>\n",
       "      <td>2948</td>\n",
       "      <td>it support specialist</td>\n",
       "      <td>907</td>\n",
       "      <td>staff accountant</td>\n",
       "      <td>accountant</td>\n",
       "      <td>74.595946</td>\n",
       "      <td>{customer service, problem solve}</td>\n",
       "      <td>{customer service, critical thinking, problem ...</td>\n",
       "      <td>{account payable, quality assurance, cash flow...</td>\n",
       "      <td>2</td>\n",
       "    </tr>\n",
       "    <tr>\n",
       "      <th>...</th>\n",
       "      <td>...</td>\n",
       "      <td>...</td>\n",
       "      <td>...</td>\n",
       "      <td>...</td>\n",
       "      <td>...</td>\n",
       "      <td>...</td>\n",
       "      <td>...</td>\n",
       "      <td>...</td>\n",
       "      <td>...</td>\n",
       "      <td>...</td>\n",
       "    </tr>\n",
       "    <tr>\n",
       "      <th>3053</th>\n",
       "      <td>3054</td>\n",
       "      <td>marketing director</td>\n",
       "      <td>637</td>\n",
       "      <td>business development manager</td>\n",
       "      <td>business-development</td>\n",
       "      <td>70.636231</td>\n",
       "      <td>{brand management}</td>\n",
       "      <td>{brand management, market research, brand stra...</td>\n",
       "      <td>{product line, market share, corporate finance...</td>\n",
       "      <td>1</td>\n",
       "    </tr>\n",
       "    <tr>\n",
       "      <th>3074</th>\n",
       "      <td>3075</td>\n",
       "      <td>social media manager</td>\n",
       "      <td>837</td>\n",
       "      <td>vp finance</td>\n",
       "      <td>finance</td>\n",
       "      <td>74.925274</td>\n",
       "      <td>{social medium}</td>\n",
       "      <td>{social medium, social medium advertising, soc...</td>\n",
       "      <td>{strategic alliance, white paper, risk managem...</td>\n",
       "      <td>1</td>\n",
       "    </tr>\n",
       "    <tr>\n",
       "      <th>3078</th>\n",
       "      <td>3079</td>\n",
       "      <td>project coordinator</td>\n",
       "      <td>471</td>\n",
       "      <td>business development rep</td>\n",
       "      <td>business-development</td>\n",
       "      <td>63.139862</td>\n",
       "      <td>{time management}</td>\n",
       "      <td>{time management, organizational skill, micros...</td>\n",
       "      <td>{twitter ad, value proposition, e commerce, in...</td>\n",
       "      <td>1</td>\n",
       "    </tr>\n",
       "    <tr>\n",
       "      <th>3121</th>\n",
       "      <td>3122</td>\n",
       "      <td>marketing director</td>\n",
       "      <td>1149</td>\n",
       "      <td>creative assistant</td>\n",
       "      <td>arts</td>\n",
       "      <td>84.692597</td>\n",
       "      <td>{public relation}</td>\n",
       "      <td>{crisis management, content strategy, medium r...</td>\n",
       "      <td>{storage system, scientific reasoning, contrac...</td>\n",
       "      <td>1</td>\n",
       "    </tr>\n",
       "    <tr>\n",
       "      <th>9985</th>\n",
       "      <td>9986</td>\n",
       "      <td>sales associate</td>\n",
       "      <td>959</td>\n",
       "      <td>teacher</td>\n",
       "      <td>teacher</td>\n",
       "      <td>84.037304</td>\n",
       "      <td>{customer service}</td>\n",
       "      <td>{customer service}</td>\n",
       "      <td>{dual language, service management, vocal musi...</td>\n",
       "      <td>1</td>\n",
       "    </tr>\n",
       "  </tbody>\n",
       "</table>\n",
       "<p>754 rows × 10 columns</p>\n",
       "</div>"
      ]
     },
     "execution_count": 81,
     "metadata": {},
     "output_type": "execute_result"
    }
   ],
   "execution_count": 81
  },
  {
   "metadata": {},
   "cell_type": "code",
   "source": "# torch.save(model.state_dict(), f\"./models/gea-recommendation-system-25k-{auc_roc:.2f}-acc-{uuid.uuid4()}-{time.strftime('%Y%m%d-%H%M%S')}-v4.pth\")",
   "id": "initial_id",
   "outputs": [],
   "execution_count": null
  },
  {
   "metadata": {
    "ExecuteTime": {
     "end_time": "2024-05-26T20:58:35.279720Z",
     "start_time": "2024-05-26T20:58:35.275449Z"
    }
   },
   "cell_type": "code",
   "source": "torch.save(model.state_dict(), f\"./models/gea-recommendation-system-v4-a03.pth\")",
   "id": "a5493be53c4edf76",
   "outputs": [],
   "execution_count": 83
  },
  {
   "metadata": {},
   "cell_type": "code",
   "source": "",
   "id": "3d6f035b4107326f",
   "outputs": [],
   "execution_count": null
  }
 ],
 "metadata": {
  "kernelspec": {
   "display_name": "Python 3",
   "language": "python",
   "name": "python3"
  },
  "language_info": {
   "codemirror_mode": {
    "name": "ipython",
    "version": 2
   },
   "file_extension": ".py",
   "mimetype": "text/x-python",
   "name": "python",
   "nbconvert_exporter": "python",
   "pygments_lexer": "ipython2",
   "version": "2.7.6"
  }
 },
 "nbformat": 4,
 "nbformat_minor": 5
}
