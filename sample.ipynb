{
 "cells": [
  {
   "metadata": {},
   "cell_type": "code",
   "source": [
    "import torch\n",
    "from torch_geometric.datasets import Planetoid\n",
    "import torch.nn.functional as F\n",
    "from torch_geometric.nn import GCNConv\n",
    "\n",
    "# Loading the Cora dataset\n",
    "dataset = Planetoid(root='data/Planetoid', name='Cora')"
   ],
   "id": "fbc121e30a2defb3",
   "outputs": [],
   "execution_count": null
  },
  {
   "metadata": {},
   "cell_type": "code",
   "source": [
    "class CustomGNN(torch.nn.Module):\n",
    "    def __init__(self, input_dim, hidden_dim, output_dim):\n",
    "        super(CustomGNN, self).__init__()\n",
    "        self.layer1 = GCNConv(input_dim, hidden_dim)\n",
    "        self.layer2 = GCNConv(hidden_dim, output_dim)\n",
    "\n",
    "    def forward(self, feature_data, edge_info):\n",
    "        # First GCN layer\n",
    "        x = self.layer1(feature_data, edge_info)\n",
    "        x = F.relu(x)\n",
    "        x = F.dropout(x, p=0.5, training=self.training)\n",
    "        # Second GCN layer\n",
    "        x = self.layer2(x, edge_info)\n",
    "        return F.log_softmax(x, dim=1)\n",
    "\n",
    "# Initialize the GNN model\n",
    "input_features = dataset.num_node_features\n",
    "num_classes = dataset.num_classes\n",
    "model = CustomGNN(input_features, 16, num_classes)\n",
    "\n",
    "optimizer = torch.optim.Adam(model.parameters(), lr=0.01, weight_decay=5e-4)\n",
    "\n",
    "graph_data = dataset[0]  # Get the graph data"
   ],
   "id": "b82f74e689a9f84a",
   "outputs": [],
   "execution_count": null
  },
  {
   "metadata": {},
   "cell_type": "code",
   "source": [
    "def train_model():\n",
    "    model.train()\n",
    "    optimizer.zero_grad()\n",
    "    output = model(graph_data.x, graph_data.edge_index)\n",
    "    loss = F.nll_loss(output[graph_data.train_mask], graph_data.y[graph_data.train_mask])\n",
    "    loss.backward()\n",
    "    optimizer.step()\n",
    "    return loss.item()\n",
    "\n",
    "for epoch in range(200):\n",
    "    loss_value = train_model()\n",
    "    print(f'Epoch: {epoch+1:03d}, Loss: {loss_value:.4f}')"
   ],
   "id": "b4126b9871b7daa2",
   "outputs": [],
   "execution_count": null
  },
  {
   "metadata": {},
   "cell_type": "code",
   "source": [
    "def evaluate_model():\n",
    "    model.eval()\n",
    "    with torch.no_grad():\n",
    "        predictions = model(graph_data.x, graph_data.edge_index).argmax(dim=1)\n",
    "        correct = (predictions[graph_data.test_mask] == graph_data.y[graph_data.test_mask]).sum()\n",
    "        acc = int(correct) / int(graph_data.test_mask.sum())\n",
    "    return acc\n",
    "\n",
    "accuracy = evaluate_model()\n",
    "print(f'Test Accuracy: {accuracy:.4f}')"
   ],
   "id": "e7275fc6d4664fe4",
   "outputs": [],
   "execution_count": null
  }
 ],
 "metadata": {
  "kernelspec": {
   "display_name": "Python 3",
   "language": "python",
   "name": "python3"
  },
  "language_info": {
   "codemirror_mode": {
    "name": "ipython",
    "version": 2
   },
   "file_extension": ".py",
   "mimetype": "text/x-python",
   "name": "python",
   "nbconvert_exporter": "python",
   "pygments_lexer": "ipython2",
   "version": "2.7.6"
  }
 },
 "nbformat": 4,
 "nbformat_minor": 5
}
