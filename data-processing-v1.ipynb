{
 "cells": [
  {
   "cell_type": "code",
   "id": "initial_id",
   "metadata": {
    "collapsed": true
   },
   "source": [
    "import spacy\n",
    "import pandas as pd\n",
    "import re\n",
    "\n",
    "from datetime import datetime\n",
    "import warnings\n",
    "warnings.filterwarnings('ignore')\n",
    "\n",
    "from spacy.matcher import PhraseMatcher\n",
    "from skillNer.general_params import SKILL_DB\n",
    "from skillNer.skill_extractor_class import SkillExtractor\n",
    "\n",
    "# import nltk\n",
    "from nltk.corpus import stopwords\n",
    "from nltk.stem import WordNetLemmatizer"
   ],
   "outputs": [],
   "execution_count": null
  },
  {
   "metadata": {},
   "cell_type": "code",
   "source": "random_seed = 42",
   "id": "d46d5dc5ff34e66f",
   "outputs": [],
   "execution_count": null
  },
  {
   "metadata": {},
   "cell_type": "code",
   "source": [
    "nlp = spacy.load(\"en_core_web_lg\")\n",
    "skill_extractor = SkillExtractor(nlp, SKILL_DB, PhraseMatcher)\n",
    "def extract_skills_from_resume(text):\n",
    "    try:\n",
    "        extracted_skills = skill_extractor.annotate(text)\n",
    "\n",
    "        skill_names_full = [skill['doc_node_value'] for skill in extracted_skills['results']['full_matches']]\n",
    "        # skill_names_ngram = [skill['doc_node_value'] for skill in extracted_skills['results']['ngram_scored']]\n",
    "\n",
    "        return skill_names_full\n",
    "    except IndexError:\n",
    "        return []\n",
    "    except ValueError:\n",
    "        return []"
   ],
   "id": "6e3c64b8916954a7",
   "outputs": [],
   "execution_count": null
  },
  {
   "metadata": {},
   "cell_type": "code",
   "source": [
    "def job_get_experience_expectations(experience_str):\n",
    "    match = re.match(r'(\\d+)\\s+to\\s+(\\d+)\\s+Years', experience_str)\n",
    "    if match:\n",
    "        min_exp, pref_exp = match.groups()\n",
    "        return int(min_exp) * 12, int(pref_exp) * 12\n",
    "    return None, None\n",
    "\n",
    "def job_get_skills(skills_str):\n",
    "    pattern = re.compile(r'([A-Z][a-z]*(?:\\s[a-z]+)*)')\n",
    "    skills = pattern.findall(skills_str)\n",
    "    skills = [skill.lower() for skill in skills]\n",
    "    return skills"
   ],
   "id": "5c25db85d8a59e7b",
   "outputs": [],
   "execution_count": null
  },
  {
   "metadata": {},
   "cell_type": "code",
   "source": [
    "jobs_df = pd.read_csv('./data/training/job_descriptions.csv')\n",
    "jobs_df = jobs_df.sample(frac=1, random_state=random_seed).head(2500)\n",
    "\n",
    "jobs_df['job_id'] = range(1, len(jobs_df) + 1)\n",
    "experience = jobs_df['Experience'].apply(lambda x: pd.Series(job_get_experience_expectations(x)))\n",
    "jobs_df = pd.DataFrame({\n",
    "    'job_id': jobs_df['job_id'],\n",
    "    'job_title': jobs_df['Job Title'].str.lower(),\n",
    "    'skills_raw': jobs_df['skills'],\n",
    "    'skills': jobs_df['skills'].apply(extract_skills_from_resume),\n",
    "    'min_experience': experience[0],\n",
    "    'max_experience': experience[1],\n",
    "})"
   ],
   "id": "2db6723024bf9c9d",
   "outputs": [],
   "execution_count": null
  },
  {
   "metadata": {},
   "cell_type": "code",
   "source": "jobs_df.head(100)",
   "id": "7bd2ded8f38c30b6",
   "outputs": [],
   "execution_count": null
  },
  {
   "metadata": {},
   "cell_type": "code",
   "source": "jobs_df.to_csv('./data/processed/job_descriptions_processed-v3.csv')",
   "id": "d400c06945662e85",
   "outputs": [],
   "execution_count": null
  },
  {
   "metadata": {},
   "cell_type": "code",
   "source": [
    "def resume_get_title(text):\n",
    "    # Regular expression to capture text at the beginning until a common separator or multiple whitespaces\n",
    "    match = re.match(r'^[A-Z\\s]+(?:,|:|\\n|\\s{2,})?', text)\n",
    "    if match:\n",
    "        title = match.group(0).strip()\n",
    "        # Remove any trailing special characters and multiple whitespaces, normalize title to title case\n",
    "        title = re.split(r'[,:;\\n]|\\s{2,}', title)[0].strip()\n",
    "        return title.title()\n",
    "    return None\n",
    "\n",
    "def extract_experience_section(text):\n",
    "    # Regex to find the 'Experience' section\n",
    "    experience_section = re.search(r'Experience\\s*([\\s\\S]*?)(?=\\n[A-Z]|$)', text, re.IGNORECASE)\n",
    "    return experience_section.group(1).strip() if experience_section else None\n",
    "\n",
    "def extract_dates_and_calculate_months(text):\n",
    "    # Regex to find dates in the format 'MM/YYYY'\n",
    "    dates = re.findall(r'\\b(0[1-9]|1[0-2])/((19|20)\\d{2})\\b', text)\n",
    "\n",
    "    total_months = 0\n",
    "\n",
    "    for i in range(0, len(dates), 2):\n",
    "        start_date = dates[i]\n",
    "        if i + 1 < len(dates):\n",
    "            end_date = dates[i + 1]\n",
    "        else:\n",
    "            end_date = ('Current',)\n",
    "\n",
    "        start_date_obj = datetime.strptime(f\"{start_date[0]}/01/{start_date[1]}\", \"%m/%d/%Y\")\n",
    "\n",
    "        if end_date[0] == 'Current':\n",
    "            end_date_obj = datetime.now()\n",
    "        else:\n",
    "            end_date_obj = datetime.strptime(f\"{end_date[0]}/01/{end_date[1]}\", \"%m/%d/%Y\")\n",
    "\n",
    "        # Calculate the difference in months\n",
    "        months_diff = (end_date_obj.year - start_date_obj.year) * 12 + end_date_obj.month - start_date_obj.month\n",
    "        if months_diff > 0:\n",
    "            total_months += months_diff\n",
    "\n",
    "    return total_months\n",
    "\n",
    "def normalize_skills(skills):\n",
    "    return [skill.lower() for skill in skills]\n",
    "\n",
    "def resume_get_experience(text):\n",
    "    experience_section = extract_experience_section(text)\n",
    "    if experience_section:\n",
    "        total_months = extract_dates_and_calculate_months(experience_section)\n",
    "        return total_months\n",
    "    return 0"
   ],
   "id": "429fb29363c0cfcb",
   "outputs": [],
   "execution_count": null
  },
  {
   "metadata": {},
   "cell_type": "code",
   "source": [
    "def clean_text(text):\n",
    "    review = re.sub('(@[A-Za-z0-9]+)|([^0-9A-Za-z \\t])|(\\w+:\\/\\/\\S+)|^rt|http.+?\"', \" \", text)\n",
    "    review = review.lower()\n",
    "    review = review.split()\n",
    "    lm = WordNetLemmatizer()\n",
    "    review = [lm.lemmatize(word) for word in review if word not in set(stopwords.words(\"english\"))]\n",
    "    return \" \".join(review)"
   ],
   "id": "92dda87b0805a1be",
   "outputs": [],
   "execution_count": null
  },
  {
   "metadata": {},
   "cell_type": "code",
   "source": [
    "resume_df = pd.read_csv('./data/training/general-resumes-dataset.csv')\n",
    "resume_df = resume_df.sample(frac=1, random_state=random_seed).head(500)\n",
    "\n",
    "resume_df['candidate_id'] = range(1, len(resume_df) + 1)\n",
    "\n",
    "processed_resumes = []\n",
    "for i, row in resume_df.iterrows():\n",
    "    text = row['Resume_str']\n",
    "    candidate_id = row['candidate_id']\n",
    "\n",
    "    job_title = resume_get_title(text).lower()\n",
    "\n",
    "    experience_section = extract_experience_section(text)\n",
    "    total_experience_months = extract_dates_and_calculate_months(experience_section) if experience_section else 0\n",
    "\n",
    "    print(f\"Extracting skills for row {i}, row {row['candidate_id']} of {len(resume_df)}\")\n",
    "    skills = extract_skills_from_resume(clean_text(text))\n",
    "    print(f\"Extracted skills for row {i}\")\n",
    "\n",
    "    processed_resumes.append({ \"candidate_id\": candidate_id, \"category\": row['Category'].lower(), \"job_title\": job_title, \"skills\": skills, \"experience\": total_experience_months })\n",
    "\n",
    "resume_df = pd.DataFrame(processed_resumes)"
   ],
   "id": "fce911313fc15cde",
   "outputs": [],
   "execution_count": null
  },
  {
   "metadata": {},
   "cell_type": "code",
   "source": "resume_df.head(100)",
   "id": "4c712d761aed549c",
   "outputs": [],
   "execution_count": null
  },
  {
   "metadata": {},
   "cell_type": "code",
   "source": "resume_df.to_csv(\"./data/processed/general-resume-dataset-processed-v3.csv\")",
   "id": "804f14903b037d90",
   "outputs": [],
   "execution_count": null
  },
  {
   "metadata": {},
   "cell_type": "code",
   "source": [
    "# jobs_df.to_csv('./data/processed/job_descriptions_processed-v3.csv')\n",
    "# resume_df.to_csv(\"./data/processed/general-resume-dataset-processed-v3.csv\")"
   ],
   "id": "efdb0d0aae6f318",
   "outputs": [],
   "execution_count": null
  },
  {
   "metadata": {},
   "cell_type": "code",
   "source": "",
   "id": "dfc8527d1a138aef",
   "outputs": [],
   "execution_count": null
  }
 ],
 "metadata": {
  "kernelspec": {
   "display_name": "Python 3",
   "language": "python",
   "name": "python3"
  },
  "language_info": {
   "codemirror_mode": {
    "name": "ipython",
    "version": 2
   },
   "file_extension": ".py",
   "mimetype": "text/x-python",
   "name": "python",
   "nbconvert_exporter": "python",
   "pygments_lexer": "ipython2",
   "version": "2.7.6"
  }
 },
 "nbformat": 4,
 "nbformat_minor": 5
}
